{
  "nbformat": 4,
  "nbformat_minor": 0,
  "metadata": {
    "colab": {
      "provenance": [],
      "gpuType": "T4",
      "authorship_tag": "ABX9TyODYS+1hBaFlgGba82gatCY",
      "include_colab_link": true
    },
    "kernelspec": {
      "name": "python3",
      "display_name": "Python 3"
    },
    "language_info": {
      "name": "python"
    },
    "accelerator": "GPU"
  },
  "cells": [
    {
      "cell_type": "markdown",
      "metadata": {
        "id": "view-in-github",
        "colab_type": "text"
      },
      "source": [
        "<a href=\"https://colab.research.google.com/github/Prasad-Mamidi/Machine_Learning/blob/main/Product_Classiffication_XGB.ipynb\" target=\"_parent\"><img src=\"https://colab.research.google.com/assets/colab-badge.svg\" alt=\"Open In Colab\"/></a>"
      ]
    },
    {
      "cell_type": "code",
      "execution_count": 12,
      "metadata": {
        "id": "j8RHsRTLiFda"
      },
      "outputs": [],
      "source": [
        "import pandas as pd"
      ]
    },
    {
      "cell_type": "code",
      "source": [
        "prod_train = pd.read_csv('https://raw.githubusercontent.com/Prasad-Mamidi/Machine_Learning/main/Datasets/Ecom_Product/train.csv')\n",
        "prod_test = pd.read_csv('https://raw.githubusercontent.com/Prasad-Mamidi/Machine_Learning/main/Datasets/Ecom_Product/test.csv')"
      ],
      "metadata": {
        "id": "cpzCFjchiS0J"
      },
      "execution_count": 2,
      "outputs": []
    },
    {
      "cell_type": "code",
      "source": [
        "prod_train.head()"
      ],
      "metadata": {
        "colab": {
          "base_uri": "https://localhost:8080/",
          "height": 255
        },
        "id": "9nU8j_UEi8bP",
        "outputId": "78dedb2b-6d75-48c1-8651-6172d6ea5fa7"
      },
      "execution_count": 3,
      "outputs": [
        {
          "output_type": "execute_result",
          "data": {
            "text/plain": [
              "   id  spec1  spec2  spec3  spec4  spec5  spec6  spec7  spec8  spec9  ...  \\\n",
              "0   1      1      0      0      0      0      0      0      0      0  ...   \n",
              "1   2      0      0      0      0      0      0      0      1      0  ...   \n",
              "2   3      0      0      0      0      0      0      0      1      0  ...   \n",
              "3   4      1      0      0      1      6      1      5      0      0  ...   \n",
              "4   5      0      0      0      0      0      0      0      0      0  ...   \n",
              "\n",
              "   spec92  spec93  spec94  spec95  spec96  spec97  spec98  spec99  spec100  \\\n",
              "0       8       9       0       4       0      12       0       0        0   \n",
              "1       7       1       0       0       0       1       0       0        0   \n",
              "2       7       9       0       0       0       9       0       0        0   \n",
              "3       7      14       0      15       0      21       0       0        0   \n",
              "4      10       7       0       0       0      12       0       0        0   \n",
              "\n",
              "   Category  \n",
              "0   Mobiles  \n",
              "1   Mobiles  \n",
              "2   Mobiles  \n",
              "3   Mobiles  \n",
              "4   Mobiles  \n",
              "\n",
              "[5 rows x 102 columns]"
            ],
            "text/html": [
              "\n",
              "  <div id=\"df-a5d7656d-6cbe-4f91-83ae-86718090c295\" class=\"colab-df-container\">\n",
              "    <div>\n",
              "<style scoped>\n",
              "    .dataframe tbody tr th:only-of-type {\n",
              "        vertical-align: middle;\n",
              "    }\n",
              "\n",
              "    .dataframe tbody tr th {\n",
              "        vertical-align: top;\n",
              "    }\n",
              "\n",
              "    .dataframe thead th {\n",
              "        text-align: right;\n",
              "    }\n",
              "</style>\n",
              "<table border=\"1\" class=\"dataframe\">\n",
              "  <thead>\n",
              "    <tr style=\"text-align: right;\">\n",
              "      <th></th>\n",
              "      <th>id</th>\n",
              "      <th>spec1</th>\n",
              "      <th>spec2</th>\n",
              "      <th>spec3</th>\n",
              "      <th>spec4</th>\n",
              "      <th>spec5</th>\n",
              "      <th>spec6</th>\n",
              "      <th>spec7</th>\n",
              "      <th>spec8</th>\n",
              "      <th>spec9</th>\n",
              "      <th>...</th>\n",
              "      <th>spec92</th>\n",
              "      <th>spec93</th>\n",
              "      <th>spec94</th>\n",
              "      <th>spec95</th>\n",
              "      <th>spec96</th>\n",
              "      <th>spec97</th>\n",
              "      <th>spec98</th>\n",
              "      <th>spec99</th>\n",
              "      <th>spec100</th>\n",
              "      <th>Category</th>\n",
              "    </tr>\n",
              "  </thead>\n",
              "  <tbody>\n",
              "    <tr>\n",
              "      <th>0</th>\n",
              "      <td>1</td>\n",
              "      <td>1</td>\n",
              "      <td>0</td>\n",
              "      <td>0</td>\n",
              "      <td>0</td>\n",
              "      <td>0</td>\n",
              "      <td>0</td>\n",
              "      <td>0</td>\n",
              "      <td>0</td>\n",
              "      <td>0</td>\n",
              "      <td>...</td>\n",
              "      <td>8</td>\n",
              "      <td>9</td>\n",
              "      <td>0</td>\n",
              "      <td>4</td>\n",
              "      <td>0</td>\n",
              "      <td>12</td>\n",
              "      <td>0</td>\n",
              "      <td>0</td>\n",
              "      <td>0</td>\n",
              "      <td>Mobiles</td>\n",
              "    </tr>\n",
              "    <tr>\n",
              "      <th>1</th>\n",
              "      <td>2</td>\n",
              "      <td>0</td>\n",
              "      <td>0</td>\n",
              "      <td>0</td>\n",
              "      <td>0</td>\n",
              "      <td>0</td>\n",
              "      <td>0</td>\n",
              "      <td>0</td>\n",
              "      <td>1</td>\n",
              "      <td>0</td>\n",
              "      <td>...</td>\n",
              "      <td>7</td>\n",
              "      <td>1</td>\n",
              "      <td>0</td>\n",
              "      <td>0</td>\n",
              "      <td>0</td>\n",
              "      <td>1</td>\n",
              "      <td>0</td>\n",
              "      <td>0</td>\n",
              "      <td>0</td>\n",
              "      <td>Mobiles</td>\n",
              "    </tr>\n",
              "    <tr>\n",
              "      <th>2</th>\n",
              "      <td>3</td>\n",
              "      <td>0</td>\n",
              "      <td>0</td>\n",
              "      <td>0</td>\n",
              "      <td>0</td>\n",
              "      <td>0</td>\n",
              "      <td>0</td>\n",
              "      <td>0</td>\n",
              "      <td>1</td>\n",
              "      <td>0</td>\n",
              "      <td>...</td>\n",
              "      <td>7</td>\n",
              "      <td>9</td>\n",
              "      <td>0</td>\n",
              "      <td>0</td>\n",
              "      <td>0</td>\n",
              "      <td>9</td>\n",
              "      <td>0</td>\n",
              "      <td>0</td>\n",
              "      <td>0</td>\n",
              "      <td>Mobiles</td>\n",
              "    </tr>\n",
              "    <tr>\n",
              "      <th>3</th>\n",
              "      <td>4</td>\n",
              "      <td>1</td>\n",
              "      <td>0</td>\n",
              "      <td>0</td>\n",
              "      <td>1</td>\n",
              "      <td>6</td>\n",
              "      <td>1</td>\n",
              "      <td>5</td>\n",
              "      <td>0</td>\n",
              "      <td>0</td>\n",
              "      <td>...</td>\n",
              "      <td>7</td>\n",
              "      <td>14</td>\n",
              "      <td>0</td>\n",
              "      <td>15</td>\n",
              "      <td>0</td>\n",
              "      <td>21</td>\n",
              "      <td>0</td>\n",
              "      <td>0</td>\n",
              "      <td>0</td>\n",
              "      <td>Mobiles</td>\n",
              "    </tr>\n",
              "    <tr>\n",
              "      <th>4</th>\n",
              "      <td>5</td>\n",
              "      <td>0</td>\n",
              "      <td>0</td>\n",
              "      <td>0</td>\n",
              "      <td>0</td>\n",
              "      <td>0</td>\n",
              "      <td>0</td>\n",
              "      <td>0</td>\n",
              "      <td>0</td>\n",
              "      <td>0</td>\n",
              "      <td>...</td>\n",
              "      <td>10</td>\n",
              "      <td>7</td>\n",
              "      <td>0</td>\n",
              "      <td>0</td>\n",
              "      <td>0</td>\n",
              "      <td>12</td>\n",
              "      <td>0</td>\n",
              "      <td>0</td>\n",
              "      <td>0</td>\n",
              "      <td>Mobiles</td>\n",
              "    </tr>\n",
              "  </tbody>\n",
              "</table>\n",
              "<p>5 rows × 102 columns</p>\n",
              "</div>\n",
              "    <div class=\"colab-df-buttons\">\n",
              "\n",
              "  <div class=\"colab-df-container\">\n",
              "    <button class=\"colab-df-convert\" onclick=\"convertToInteractive('df-a5d7656d-6cbe-4f91-83ae-86718090c295')\"\n",
              "            title=\"Convert this dataframe to an interactive table.\"\n",
              "            style=\"display:none;\">\n",
              "\n",
              "  <svg xmlns=\"http://www.w3.org/2000/svg\" height=\"24px\" viewBox=\"0 -960 960 960\">\n",
              "    <path d=\"M120-120v-720h720v720H120Zm60-500h600v-160H180v160Zm220 220h160v-160H400v160Zm0 220h160v-160H400v160ZM180-400h160v-160H180v160Zm440 0h160v-160H620v160ZM180-180h160v-160H180v160Zm440 0h160v-160H620v160Z\"/>\n",
              "  </svg>\n",
              "    </button>\n",
              "\n",
              "  <style>\n",
              "    .colab-df-container {\n",
              "      display:flex;\n",
              "      gap: 12px;\n",
              "    }\n",
              "\n",
              "    .colab-df-convert {\n",
              "      background-color: #E8F0FE;\n",
              "      border: none;\n",
              "      border-radius: 50%;\n",
              "      cursor: pointer;\n",
              "      display: none;\n",
              "      fill: #1967D2;\n",
              "      height: 32px;\n",
              "      padding: 0 0 0 0;\n",
              "      width: 32px;\n",
              "    }\n",
              "\n",
              "    .colab-df-convert:hover {\n",
              "      background-color: #E2EBFA;\n",
              "      box-shadow: 0px 1px 2px rgba(60, 64, 67, 0.3), 0px 1px 3px 1px rgba(60, 64, 67, 0.15);\n",
              "      fill: #174EA6;\n",
              "    }\n",
              "\n",
              "    .colab-df-buttons div {\n",
              "      margin-bottom: 4px;\n",
              "    }\n",
              "\n",
              "    [theme=dark] .colab-df-convert {\n",
              "      background-color: #3B4455;\n",
              "      fill: #D2E3FC;\n",
              "    }\n",
              "\n",
              "    [theme=dark] .colab-df-convert:hover {\n",
              "      background-color: #434B5C;\n",
              "      box-shadow: 0px 1px 3px 1px rgba(0, 0, 0, 0.15);\n",
              "      filter: drop-shadow(0px 1px 2px rgba(0, 0, 0, 0.3));\n",
              "      fill: #FFFFFF;\n",
              "    }\n",
              "  </style>\n",
              "\n",
              "    <script>\n",
              "      const buttonEl =\n",
              "        document.querySelector('#df-a5d7656d-6cbe-4f91-83ae-86718090c295 button.colab-df-convert');\n",
              "      buttonEl.style.display =\n",
              "        google.colab.kernel.accessAllowed ? 'block' : 'none';\n",
              "\n",
              "      async function convertToInteractive(key) {\n",
              "        const element = document.querySelector('#df-a5d7656d-6cbe-4f91-83ae-86718090c295');\n",
              "        const dataTable =\n",
              "          await google.colab.kernel.invokeFunction('convertToInteractive',\n",
              "                                                    [key], {});\n",
              "        if (!dataTable) return;\n",
              "\n",
              "        const docLinkHtml = 'Like what you see? Visit the ' +\n",
              "          '<a target=\"_blank\" href=https://colab.research.google.com/notebooks/data_table.ipynb>data table notebook</a>'\n",
              "          + ' to learn more about interactive tables.';\n",
              "        element.innerHTML = '';\n",
              "        dataTable['output_type'] = 'display_data';\n",
              "        await google.colab.output.renderOutput(dataTable, element);\n",
              "        const docLink = document.createElement('div');\n",
              "        docLink.innerHTML = docLinkHtml;\n",
              "        element.appendChild(docLink);\n",
              "      }\n",
              "    </script>\n",
              "  </div>\n",
              "\n",
              "\n",
              "<div id=\"df-e13d4d07-bf22-4e11-ad14-130762e8f2bf\">\n",
              "  <button class=\"colab-df-quickchart\" onclick=\"quickchart('df-e13d4d07-bf22-4e11-ad14-130762e8f2bf')\"\n",
              "            title=\"Suggest charts\"\n",
              "            style=\"display:none;\">\n",
              "\n",
              "<svg xmlns=\"http://www.w3.org/2000/svg\" height=\"24px\"viewBox=\"0 0 24 24\"\n",
              "     width=\"24px\">\n",
              "    <g>\n",
              "        <path d=\"M19 3H5c-1.1 0-2 .9-2 2v14c0 1.1.9 2 2 2h14c1.1 0 2-.9 2-2V5c0-1.1-.9-2-2-2zM9 17H7v-7h2v7zm4 0h-2V7h2v10zm4 0h-2v-4h2v4z\"/>\n",
              "    </g>\n",
              "</svg>\n",
              "  </button>\n",
              "\n",
              "<style>\n",
              "  .colab-df-quickchart {\n",
              "      --bg-color: #E8F0FE;\n",
              "      --fill-color: #1967D2;\n",
              "      --hover-bg-color: #E2EBFA;\n",
              "      --hover-fill-color: #174EA6;\n",
              "      --disabled-fill-color: #AAA;\n",
              "      --disabled-bg-color: #DDD;\n",
              "  }\n",
              "\n",
              "  [theme=dark] .colab-df-quickchart {\n",
              "      --bg-color: #3B4455;\n",
              "      --fill-color: #D2E3FC;\n",
              "      --hover-bg-color: #434B5C;\n",
              "      --hover-fill-color: #FFFFFF;\n",
              "      --disabled-bg-color: #3B4455;\n",
              "      --disabled-fill-color: #666;\n",
              "  }\n",
              "\n",
              "  .colab-df-quickchart {\n",
              "    background-color: var(--bg-color);\n",
              "    border: none;\n",
              "    border-radius: 50%;\n",
              "    cursor: pointer;\n",
              "    display: none;\n",
              "    fill: var(--fill-color);\n",
              "    height: 32px;\n",
              "    padding: 0;\n",
              "    width: 32px;\n",
              "  }\n",
              "\n",
              "  .colab-df-quickchart:hover {\n",
              "    background-color: var(--hover-bg-color);\n",
              "    box-shadow: 0 1px 2px rgba(60, 64, 67, 0.3), 0 1px 3px 1px rgba(60, 64, 67, 0.15);\n",
              "    fill: var(--button-hover-fill-color);\n",
              "  }\n",
              "\n",
              "  .colab-df-quickchart-complete:disabled,\n",
              "  .colab-df-quickchart-complete:disabled:hover {\n",
              "    background-color: var(--disabled-bg-color);\n",
              "    fill: var(--disabled-fill-color);\n",
              "    box-shadow: none;\n",
              "  }\n",
              "\n",
              "  .colab-df-spinner {\n",
              "    border: 2px solid var(--fill-color);\n",
              "    border-color: transparent;\n",
              "    border-bottom-color: var(--fill-color);\n",
              "    animation:\n",
              "      spin 1s steps(1) infinite;\n",
              "  }\n",
              "\n",
              "  @keyframes spin {\n",
              "    0% {\n",
              "      border-color: transparent;\n",
              "      border-bottom-color: var(--fill-color);\n",
              "      border-left-color: var(--fill-color);\n",
              "    }\n",
              "    20% {\n",
              "      border-color: transparent;\n",
              "      border-left-color: var(--fill-color);\n",
              "      border-top-color: var(--fill-color);\n",
              "    }\n",
              "    30% {\n",
              "      border-color: transparent;\n",
              "      border-left-color: var(--fill-color);\n",
              "      border-top-color: var(--fill-color);\n",
              "      border-right-color: var(--fill-color);\n",
              "    }\n",
              "    40% {\n",
              "      border-color: transparent;\n",
              "      border-right-color: var(--fill-color);\n",
              "      border-top-color: var(--fill-color);\n",
              "    }\n",
              "    60% {\n",
              "      border-color: transparent;\n",
              "      border-right-color: var(--fill-color);\n",
              "    }\n",
              "    80% {\n",
              "      border-color: transparent;\n",
              "      border-right-color: var(--fill-color);\n",
              "      border-bottom-color: var(--fill-color);\n",
              "    }\n",
              "    90% {\n",
              "      border-color: transparent;\n",
              "      border-bottom-color: var(--fill-color);\n",
              "    }\n",
              "  }\n",
              "</style>\n",
              "\n",
              "  <script>\n",
              "    async function quickchart(key) {\n",
              "      const quickchartButtonEl =\n",
              "        document.querySelector('#' + key + ' button');\n",
              "      quickchartButtonEl.disabled = true;  // To prevent multiple clicks.\n",
              "      quickchartButtonEl.classList.add('colab-df-spinner');\n",
              "      try {\n",
              "        const charts = await google.colab.kernel.invokeFunction(\n",
              "            'suggestCharts', [key], {});\n",
              "      } catch (error) {\n",
              "        console.error('Error during call to suggestCharts:', error);\n",
              "      }\n",
              "      quickchartButtonEl.classList.remove('colab-df-spinner');\n",
              "      quickchartButtonEl.classList.add('colab-df-quickchart-complete');\n",
              "    }\n",
              "    (() => {\n",
              "      let quickchartButtonEl =\n",
              "        document.querySelector('#df-e13d4d07-bf22-4e11-ad14-130762e8f2bf button');\n",
              "      quickchartButtonEl.style.display =\n",
              "        google.colab.kernel.accessAllowed ? 'block' : 'none';\n",
              "    })();\n",
              "  </script>\n",
              "</div>\n",
              "\n",
              "    </div>\n",
              "  </div>\n"
            ],
            "application/vnd.google.colaboratory.intrinsic+json": {
              "type": "dataframe",
              "variable_name": "prod_train"
            }
          },
          "metadata": {},
          "execution_count": 3
        }
      ]
    },
    {
      "cell_type": "code",
      "source": [
        "prod_train.columns"
      ],
      "metadata": {
        "colab": {
          "base_uri": "https://localhost:8080/"
        },
        "id": "6TFthh66jWv2",
        "outputId": "b04715d7-da21-4577-9393-f11b6f0792bf"
      },
      "execution_count": 4,
      "outputs": [
        {
          "output_type": "execute_result",
          "data": {
            "text/plain": [
              "Index(['id', 'spec1', 'spec2', 'spec3', 'spec4', 'spec5', 'spec6', 'spec7',\n",
              "       'spec8', 'spec9',\n",
              "       ...\n",
              "       'spec92', 'spec93', 'spec94', 'spec95', 'spec96', 'spec97', 'spec98',\n",
              "       'spec99', 'spec100', 'Category'],\n",
              "      dtype='object', length=102)"
            ]
          },
          "metadata": {},
          "execution_count": 4
        }
      ]
    },
    {
      "cell_type": "code",
      "source": [
        "print(prod_train[\"Category\"].value_counts())\n",
        "print(len(prod_train[\"Category\"].unique()))"
      ],
      "metadata": {
        "colab": {
          "base_uri": "https://localhost:8080/"
        },
        "id": "51IWATCSje5z",
        "outputId": "4b885af2-97c5-4b08-8dfa-61c49ea72613"
      },
      "execution_count": 5,
      "outputs": [
        {
          "output_type": "stream",
          "name": "stdout",
          "text": [
            "Category\n",
            "Tablets          13079\n",
            "Personal_Care    11452\n",
            "Appliances        6863\n",
            "Laptops           6466\n",
            "Camara            3964\n",
            "Accessories       2341\n",
            "Ipod              2217\n",
            "TV                2182\n",
            "Mobiles           1558\n",
            "Name: count, dtype: int64\n",
            "9\n"
          ]
        }
      ]
    },
    {
      "cell_type": "markdown",
      "source": [
        "##prepare train,test data"
      ],
      "metadata": {
        "id": "rRJ6LFhYkuPd"
      }
    },
    {
      "cell_type": "code",
      "source": [
        "X_train = prod_train.drop([\"Category\"],axis=1)\n",
        "y_train = prod_train[\"Category\"]\n",
        "\n",
        "X_test = prod_test.drop([\"Category\"],axis=1)\n",
        "y_test = prod_test[\"Category\"]"
      ],
      "metadata": {
        "id": "dy4d8Ulqkyl8"
      },
      "execution_count": 6,
      "outputs": []
    },
    {
      "cell_type": "markdown",
      "source": [
        "##DecisionTreeClassifier"
      ],
      "metadata": {
        "id": "602utn6zl1Rv"
      }
    },
    {
      "cell_type": "code",
      "source": [
        "from sklearn.tree import DecisionTreeClassifier\n",
        "from sklearn.metrics import accuracy_score\n",
        "dct   = DecisionTreeClassifier(max_depth=4)\n",
        "dct = dct.fit(X_train,y_train)"
      ],
      "metadata": {
        "id": "_utSXS1dlPnE"
      },
      "execution_count": 7,
      "outputs": []
    },
    {
      "cell_type": "code",
      "source": [
        "#Train Accuracy score\n",
        "print(accuracy_score(y_train,dct.predict(X_train)))\n",
        "# print(dct.score(X_train,y_train))\n",
        "#Test Accuracy score\n",
        "print(accuracy_score(y_test,dct.predict(X_test)))\n",
        "# print(dct.score(X_test,y_test))\n"
      ],
      "metadata": {
        "colab": {
          "base_uri": "https://localhost:8080/"
        },
        "id": "2rDNwt0cl0cg",
        "outputId": "763fd42e-fc96-4731-ff17-d749ac1d91cf"
      },
      "execution_count": 8,
      "outputs": [
        {
          "output_type": "stream",
          "name": "stdout",
          "text": [
            "0.9097601851482383\n",
            "0.9142565498468866\n"
          ]
        }
      ]
    },
    {
      "cell_type": "markdown",
      "source": [
        "##GradientBoostingAlgorithm"
      ],
      "metadata": {
        "id": "0YGD6rB3nsHJ"
      }
    },
    {
      "cell_type": "code",
      "source": [
        "import time\n",
        "from sklearn.ensemble import GradientBoostingClassifier\n",
        "from sklearn.metrics import confusion_matrix,f1_score"
      ],
      "metadata": {
        "id": "5duK9DYkq2on"
      },
      "execution_count": 9,
      "outputs": []
    },
    {
      "cell_type": "code",
      "source": [
        "\n",
        "\n",
        "gbc = GradientBoostingClassifier(n_estimators=50,max_depth=1,learning_rate=0.01)\n",
        "gbc = gbc.fit(X_train,y_train)\n",
        "\n",
        "start_time = time.time()\n",
        "print(\"Time Taken by GBC \"+str(time.time()-start_time)+\"Seconds\")\n",
        "# print(\"Accuracy of GBC \"+str(gbc.score(X_test,y_test)))"
      ],
      "metadata": {
        "colab": {
          "base_uri": "https://localhost:8080/"
        },
        "id": "ssK_XRGvnrIg",
        "outputId": "88c096ae-7490-455b-899b-25659bc36270"
      },
      "execution_count": 10,
      "outputs": [
        {
          "output_type": "stream",
          "name": "stdout",
          "text": [
            "Time Taken by GBC 7.128715515136719e-05Seconds\n"
          ]
        }
      ]
    },
    {
      "cell_type": "code",
      "source": [
        "print(confusion_matrix(y_train,gbc.predict(X_train)))\n",
        "print(\"Train Accuracy of GBC \"+str(gbc.score(X_train,y_train)))\n",
        "print(confusion_matrix(y_test,gbc.predict(X_test)))\n",
        "print(\"Test Accuracy of GBC \"+str(gbc.score(X_test,y_test)))"
      ],
      "metadata": {
        "colab": {
          "base_uri": "https://localhost:8080/"
        },
        "id": "pglwiVQKpdJs",
        "outputId": "49d41466-9759-4843-a4c8-473c0c1df7f5"
      },
      "execution_count": 11,
      "outputs": [
        {
          "output_type": "stream",
          "name": "stdout",
          "text": [
            "[[  545     0     0    23     0     0  1773     0     0]\n",
            " [    0  6661     0     4     0     0   198     0     0]\n",
            " [    0     0  3964     0     0     0     0     0     0]\n",
            " [    0     0     0  1944     0     0   273     0     0]\n",
            " [    0     0     0    97  6357     0    12     0     0]\n",
            " [    0     0     0     0     0     0     0     0  1558]\n",
            " [    0     0     0    18     0     0 11434     0     0]\n",
            " [    0     0     0    14     0     0  2168     0     0]\n",
            " [    0     0     0     0     0     0     0     0 13079]]\n",
            "Train Accuracy of GBC 0.8775388053150314\n",
            "[[ 106    0    0   13    0    0  379    0    0]\n",
            " [   0 1565    0    0    0    0   36    0    0]\n",
            " [   0    1  990    0    0    0    0    0    0]\n",
            " [   0    0    0  450    0    0   72    0    0]\n",
            " [   0    0    0   19 1519    0    0    0    0]\n",
            " [   0    0    0    0    0    0    0    0  371]\n",
            " [   0    0    0    8    0    0 2675    0    0]\n",
            " [   0    0    0    4    1    0  504    0    0]\n",
            " [   0    0    0    0    0    0    0    0 3043]]\n",
            "Test Accuracy of GBC 0.8802313712146989\n"
          ]
        }
      ]
    },
    {
      "cell_type": "markdown",
      "source": [
        "#XGB Alogrithm\n"
      ],
      "metadata": {
        "id": "pi3xfi8nzfcb"
      }
    },
    {
      "cell_type": "code",
      "source": [
        "import xgboost\n",
        "from xgboost import XGBClassifier\n",
        "from sklearn.preprocessing import LabelEncoder"
      ],
      "metadata": {
        "id": "wPwSpAiXZAka"
      },
      "execution_count": 20,
      "outputs": []
    },
    {
      "cell_type": "code",
      "source": [
        "#Converting Categorical Values into Numeric Form\n",
        "train_labels = LabelEncoder().fit_transform(y_train.values)\n",
        "test_labels = LabelEncoder().fit_transform(y_test.values)"
      ],
      "metadata": {
        "id": "Aljk0gDHZhTJ"
      },
      "execution_count": 16,
      "outputs": []
    },
    {
      "cell_type": "code",
      "source": [
        "y_train.values"
      ],
      "metadata": {
        "colab": {
          "base_uri": "https://localhost:8080/"
        },
        "id": "oxNu6AYZagDM",
        "outputId": "8a418d89-36d6-46cf-c323-e91ee3928555"
      },
      "execution_count": 19,
      "outputs": [
        {
          "output_type": "execute_result",
          "data": {
            "text/plain": [
              "array(['Mobiles', 'Mobiles', 'Mobiles', ..., 'Camara', 'Camara', 'Camara'],\n",
              "      dtype=object)"
            ]
          },
          "metadata": {},
          "execution_count": 19
        }
      ]
    },
    {
      "cell_type": "code",
      "source": [
        "train_labels"
      ],
      "metadata": {
        "colab": {
          "base_uri": "https://localhost:8080/"
        },
        "id": "8ZNe3s5cahxr",
        "outputId": "b3e1c922-fc41-4ad3-ff78-121b67e65a83"
      },
      "execution_count": 17,
      "outputs": [
        {
          "output_type": "execute_result",
          "data": {
            "text/plain": [
              "array([5, 5, 5, ..., 2, 2, 2])"
            ]
          },
          "metadata": {},
          "execution_count": 17
        }
      ]
    },
    {
      "cell_type": "code",
      "source": [
        "matrix_train  = xgboost.DMatrix(X_train,label=train_labels)\n",
        "matrix_test = xgboost.DMatrix(X_test,label=test_labels)\n",
        "\n",
        "params = {\n",
        "            \"max_depth\":1,\n",
        "            \"eta\":0.01,\n",
        "            \"eval_metric\":'merror',\n",
        "            \"tree_method\":\"hist\",\n",
        "            \"device\":\"cuda\",\n",
        "            \"num_class\":9\n",
        "         }\n",
        "\n",
        "start_time = time.time()\n",
        "model = xgboost.train(params=params,\n",
        "                      dtrain=matrix_train,\n",
        "                      num_boost_round=3000,\n",
        "                      evals=[(matrix_test,\"test\")],\n",
        "                      early_stopping_rounds=4)\n",
        "\n",
        "print(\"Time Taken by XGB \"+str(time.time()-start_time)+\"Seconds\")"
      ],
      "metadata": {
        "colab": {
          "base_uri": "https://localhost:8080/"
        },
        "id": "xxKN1LiHavWq",
        "outputId": "22324756-fc07-4d89-e46a-560f6d66e107"
      },
      "execution_count": 50,
      "outputs": [
        {
          "output_type": "stream",
          "name": "stdout",
          "text": [
            "[0]\ttest-merror:0.09433\n",
            "[1]\ttest-merror:0.09433\n",
            "[2]\ttest-merror:0.09263\n",
            "[3]\ttest-merror:0.09323\n",
            "[4]\ttest-merror:0.09323\n",
            "[5]\ttest-merror:0.09323\n",
            "[6]\ttest-merror:0.09221\n",
            "[7]\ttest-merror:0.09221\n",
            "[8]\ttest-merror:0.09297\n",
            "[9]\ttest-merror:0.09297\n",
            "[10]\ttest-merror:0.04917\n",
            "[11]\ttest-merror:0.04917\n",
            "[12]\ttest-merror:0.04917\n",
            "[13]\ttest-merror:0.04917\n",
            "Time Taken by XGB 0.2809865474700928Seconds\n"
          ]
        }
      ]
    },
    {
      "cell_type": "markdown",
      "source": [
        "##XGB results"
      ],
      "metadata": {
        "id": "pQfC8RD7hYlc"
      }
    },
    {
      "cell_type": "code",
      "source": [
        "print(confusion_matrix(train_labels,model.predict(matrix_train)))\n",
        "print(\"Train Accuracy of XGB \"+str(accuracy_score(train_labels,model.predict(matrix_train))))\n",
        "print(confusion_matrix(test_labels,model.predict(matrix_test)))\n",
        "print(\"Test Accuracy of XGB \"+str(accuracy_score(test_labels,model.predict(matrix_test))))"
      ],
      "metadata": {
        "colab": {
          "base_uri": "https://localhost:8080/"
        },
        "id": "zkAlX8WyeIP-",
        "outputId": "06513abc-71bd-44c9-eb4b-50d3ac65f254"
      },
      "execution_count": 51,
      "outputs": [
        {
          "output_type": "stream",
          "name": "stdout",
          "text": [
            "[[  663   102     0    25     0     0  1551     0     0]\n",
            " [    2  6652     0    11     0     0   198     0     0]\n",
            " [    0    47  3917     0     0     0     0     0     0]\n",
            " [    0     0     0  2032     0     0   185     0     0]\n",
            " [   14     0     0   143  6250     0    12     0    47]\n",
            " [    0     0     0     0     0  1558     0     0     0]\n",
            " [  134     0     0    54     0     0 11264     0     0]\n",
            " [    1     0     0    20    39     0     0  2122     0]\n",
            " [    0     0     0     0     0     9     0     0 13070]]\n",
            "Train Accuracy of XGB 0.9482462790790471\n",
            "[[ 129   20    0   13    0    0  336    0    0]\n",
            " [   0 1561    0    4    0    0   36    0    0]\n",
            " [   0    7  984    0    0    0    0    0    0]\n",
            " [   0    0    0  469    0    0   53    0    0]\n",
            " [   2    0    0   28 1502    0    0    0    6]\n",
            " [   0    0    0    0    0  371    0    0    0]\n",
            " [  32    0    0   17    0    0 2634    0    0]\n",
            " [   0    0    0    5    9    0    0  495    0]\n",
            " [   0    0    0    0    0   10    0    0 3033]]\n",
            "Test Accuracy of XGB 0.9508336168764886\n"
          ]
        }
      ]
    }
  ]
}