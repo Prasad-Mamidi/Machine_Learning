{
  "nbformat": 4,
  "nbformat_minor": 0,
  "metadata": {
    "colab": {
      "provenance": [],
      "authorship_tag": "ABX9TyNGeFiQiRLFBNkaPRf/Odwy"
    },
    "kernelspec": {
      "name": "python3",
      "display_name": "Python 3"
    },
    "language_info": {
      "name": "python"
    }
  },
  "cells": [
    {
      "cell_type": "code",
      "execution_count": null,
      "metadata": {
        "id": "DYkXQsRTQl80"
      },
      "outputs": [],
      "source": [
        "import pandas as pd"
      ]
    },
    {
      "cell_type": "code",
      "source": [
        "# Read fiberbits data file\n",
        "customers = pd.read_csv(\"https://raw.githubusercontent.com/Prasad-Mamidi/Machine_Learning/main/Datasets/Fiberbits.csv\")"
      ],
      "metadata": {
        "id": "64D7YiR_UFQq"
      },
      "execution_count": null,
      "outputs": []
    },
    {
      "cell_type": "code",
      "source": [
        "#fiberbits companies customer data information overview\n",
        "customers.info()"
      ],
      "metadata": {
        "colab": {
          "base_uri": "https://localhost:8080/"
        },
        "id": "MHhFU8zWUOLf",
        "outputId": "3f2f64fe-1f8c-4ff7-e334-cb83573bb66f"
      },
      "execution_count": null,
      "outputs": [
        {
          "output_type": "stream",
          "name": "stdout",
          "text": [
            "<class 'pandas.core.frame.DataFrame'>\n",
            "RangeIndex: 100000 entries, 0 to 99999\n",
            "Data columns (total 9 columns):\n",
            " #   Column                      Non-Null Count   Dtype\n",
            "---  ------                      --------------   -----\n",
            " 0   active_cust                 100000 non-null  int64\n",
            " 1   income                      100000 non-null  int64\n",
            " 2   months_on_network           100000 non-null  int64\n",
            " 3   Num_complaints              100000 non-null  int64\n",
            " 4   number_plan_changes         100000 non-null  int64\n",
            " 5   relocated                   100000 non-null  int64\n",
            " 6   monthly_bill                100000 non-null  int64\n",
            " 7   technical_issues_per_month  100000 non-null  int64\n",
            " 8   Speed_test_result           100000 non-null  int64\n",
            "dtypes: int64(9)\n",
            "memory usage: 6.9 MB\n"
          ]
        }
      ]
    },
    {
      "cell_type": "code",
      "source": [
        "#description of full customer data\n",
        "customers.describe()"
      ],
      "metadata": {
        "colab": {
          "base_uri": "https://localhost:8080/",
          "height": 320
        },
        "id": "xrBliDErV4Uw",
        "outputId": "0aa956c3-46ed-4773-ee69-30ab9047f24d"
      },
      "execution_count": null,
      "outputs": [
        {
          "output_type": "execute_result",
          "data": {
            "text/plain": [
              "         active_cust         income  months_on_network  Num_complaints  \\\n",
              "count  100000.000000  100000.000000      100000.000000   100000.000000   \n",
              "mean        0.578590    1855.279910          58.402450        4.012840   \n",
              "std         0.493787    2712.385257          18.643736        0.285265   \n",
              "min         0.000000    1130.000000         -20.000000        3.000000   \n",
              "25%         0.000000    1674.000000          47.000000        4.000000   \n",
              "50%         1.000000    1805.000000          56.000000        4.000000   \n",
              "75%         1.000000    1907.000000          70.000000        4.000000   \n",
              "max         1.000000  229821.000000         449.000000        6.000000   \n",
              "\n",
              "       number_plan_changes      relocated   monthly_bill  \\\n",
              "count        100000.000000  100000.000000  100000.000000   \n",
              "mean              1.385410       0.123480      95.816450   \n",
              "std               1.617101       0.328989      50.161327   \n",
              "min               0.000000       0.000000      30.000000   \n",
              "25%               0.000000       0.000000      45.000000   \n",
              "50%               1.000000       0.000000      87.000000   \n",
              "75%               2.000000       0.000000     133.000000   \n",
              "max               9.000000       1.000000     181.000000   \n",
              "\n",
              "       technical_issues_per_month  Speed_test_result  \n",
              "count                100000.00000      100000.000000  \n",
              "mean                      3.31673          81.668540  \n",
              "std                       1.24147           9.952554  \n",
              "min                       1.00000          72.000000  \n",
              "25%                       3.00000          78.000000  \n",
              "50%                       4.00000          81.000000  \n",
              "75%                       4.00000          85.000000  \n",
              "max                       7.00000         332.000000  "
            ],
            "text/html": [
              "\n",
              "  <div id=\"df-620417e2-96f6-4ca8-8cbd-6f6b4fe428b4\" class=\"colab-df-container\">\n",
              "    <div>\n",
              "<style scoped>\n",
              "    .dataframe tbody tr th:only-of-type {\n",
              "        vertical-align: middle;\n",
              "    }\n",
              "\n",
              "    .dataframe tbody tr th {\n",
              "        vertical-align: top;\n",
              "    }\n",
              "\n",
              "    .dataframe thead th {\n",
              "        text-align: right;\n",
              "    }\n",
              "</style>\n",
              "<table border=\"1\" class=\"dataframe\">\n",
              "  <thead>\n",
              "    <tr style=\"text-align: right;\">\n",
              "      <th></th>\n",
              "      <th>active_cust</th>\n",
              "      <th>income</th>\n",
              "      <th>months_on_network</th>\n",
              "      <th>Num_complaints</th>\n",
              "      <th>number_plan_changes</th>\n",
              "      <th>relocated</th>\n",
              "      <th>monthly_bill</th>\n",
              "      <th>technical_issues_per_month</th>\n",
              "      <th>Speed_test_result</th>\n",
              "    </tr>\n",
              "  </thead>\n",
              "  <tbody>\n",
              "    <tr>\n",
              "      <th>count</th>\n",
              "      <td>100000.000000</td>\n",
              "      <td>100000.000000</td>\n",
              "      <td>100000.000000</td>\n",
              "      <td>100000.000000</td>\n",
              "      <td>100000.000000</td>\n",
              "      <td>100000.000000</td>\n",
              "      <td>100000.000000</td>\n",
              "      <td>100000.00000</td>\n",
              "      <td>100000.000000</td>\n",
              "    </tr>\n",
              "    <tr>\n",
              "      <th>mean</th>\n",
              "      <td>0.578590</td>\n",
              "      <td>1855.279910</td>\n",
              "      <td>58.402450</td>\n",
              "      <td>4.012840</td>\n",
              "      <td>1.385410</td>\n",
              "      <td>0.123480</td>\n",
              "      <td>95.816450</td>\n",
              "      <td>3.31673</td>\n",
              "      <td>81.668540</td>\n",
              "    </tr>\n",
              "    <tr>\n",
              "      <th>std</th>\n",
              "      <td>0.493787</td>\n",
              "      <td>2712.385257</td>\n",
              "      <td>18.643736</td>\n",
              "      <td>0.285265</td>\n",
              "      <td>1.617101</td>\n",
              "      <td>0.328989</td>\n",
              "      <td>50.161327</td>\n",
              "      <td>1.24147</td>\n",
              "      <td>9.952554</td>\n",
              "    </tr>\n",
              "    <tr>\n",
              "      <th>min</th>\n",
              "      <td>0.000000</td>\n",
              "      <td>1130.000000</td>\n",
              "      <td>-20.000000</td>\n",
              "      <td>3.000000</td>\n",
              "      <td>0.000000</td>\n",
              "      <td>0.000000</td>\n",
              "      <td>30.000000</td>\n",
              "      <td>1.00000</td>\n",
              "      <td>72.000000</td>\n",
              "    </tr>\n",
              "    <tr>\n",
              "      <th>25%</th>\n",
              "      <td>0.000000</td>\n",
              "      <td>1674.000000</td>\n",
              "      <td>47.000000</td>\n",
              "      <td>4.000000</td>\n",
              "      <td>0.000000</td>\n",
              "      <td>0.000000</td>\n",
              "      <td>45.000000</td>\n",
              "      <td>3.00000</td>\n",
              "      <td>78.000000</td>\n",
              "    </tr>\n",
              "    <tr>\n",
              "      <th>50%</th>\n",
              "      <td>1.000000</td>\n",
              "      <td>1805.000000</td>\n",
              "      <td>56.000000</td>\n",
              "      <td>4.000000</td>\n",
              "      <td>1.000000</td>\n",
              "      <td>0.000000</td>\n",
              "      <td>87.000000</td>\n",
              "      <td>4.00000</td>\n",
              "      <td>81.000000</td>\n",
              "    </tr>\n",
              "    <tr>\n",
              "      <th>75%</th>\n",
              "      <td>1.000000</td>\n",
              "      <td>1907.000000</td>\n",
              "      <td>70.000000</td>\n",
              "      <td>4.000000</td>\n",
              "      <td>2.000000</td>\n",
              "      <td>0.000000</td>\n",
              "      <td>133.000000</td>\n",
              "      <td>4.00000</td>\n",
              "      <td>85.000000</td>\n",
              "    </tr>\n",
              "    <tr>\n",
              "      <th>max</th>\n",
              "      <td>1.000000</td>\n",
              "      <td>229821.000000</td>\n",
              "      <td>449.000000</td>\n",
              "      <td>6.000000</td>\n",
              "      <td>9.000000</td>\n",
              "      <td>1.000000</td>\n",
              "      <td>181.000000</td>\n",
              "      <td>7.00000</td>\n",
              "      <td>332.000000</td>\n",
              "    </tr>\n",
              "  </tbody>\n",
              "</table>\n",
              "</div>\n",
              "    <div class=\"colab-df-buttons\">\n",
              "\n",
              "  <div class=\"colab-df-container\">\n",
              "    <button class=\"colab-df-convert\" onclick=\"convertToInteractive('df-620417e2-96f6-4ca8-8cbd-6f6b4fe428b4')\"\n",
              "            title=\"Convert this dataframe to an interactive table.\"\n",
              "            style=\"display:none;\">\n",
              "\n",
              "  <svg xmlns=\"http://www.w3.org/2000/svg\" height=\"24px\" viewBox=\"0 -960 960 960\">\n",
              "    <path d=\"M120-120v-720h720v720H120Zm60-500h600v-160H180v160Zm220 220h160v-160H400v160Zm0 220h160v-160H400v160ZM180-400h160v-160H180v160Zm440 0h160v-160H620v160ZM180-180h160v-160H180v160Zm440 0h160v-160H620v160Z\"/>\n",
              "  </svg>\n",
              "    </button>\n",
              "\n",
              "  <style>\n",
              "    .colab-df-container {\n",
              "      display:flex;\n",
              "      gap: 12px;\n",
              "    }\n",
              "\n",
              "    .colab-df-convert {\n",
              "      background-color: #E8F0FE;\n",
              "      border: none;\n",
              "      border-radius: 50%;\n",
              "      cursor: pointer;\n",
              "      display: none;\n",
              "      fill: #1967D2;\n",
              "      height: 32px;\n",
              "      padding: 0 0 0 0;\n",
              "      width: 32px;\n",
              "    }\n",
              "\n",
              "    .colab-df-convert:hover {\n",
              "      background-color: #E2EBFA;\n",
              "      box-shadow: 0px 1px 2px rgba(60, 64, 67, 0.3), 0px 1px 3px 1px rgba(60, 64, 67, 0.15);\n",
              "      fill: #174EA6;\n",
              "    }\n",
              "\n",
              "    .colab-df-buttons div {\n",
              "      margin-bottom: 4px;\n",
              "    }\n",
              "\n",
              "    [theme=dark] .colab-df-convert {\n",
              "      background-color: #3B4455;\n",
              "      fill: #D2E3FC;\n",
              "    }\n",
              "\n",
              "    [theme=dark] .colab-df-convert:hover {\n",
              "      background-color: #434B5C;\n",
              "      box-shadow: 0px 1px 3px 1px rgba(0, 0, 0, 0.15);\n",
              "      filter: drop-shadow(0px 1px 2px rgba(0, 0, 0, 0.3));\n",
              "      fill: #FFFFFF;\n",
              "    }\n",
              "  </style>\n",
              "\n",
              "    <script>\n",
              "      const buttonEl =\n",
              "        document.querySelector('#df-620417e2-96f6-4ca8-8cbd-6f6b4fe428b4 button.colab-df-convert');\n",
              "      buttonEl.style.display =\n",
              "        google.colab.kernel.accessAllowed ? 'block' : 'none';\n",
              "\n",
              "      async function convertToInteractive(key) {\n",
              "        const element = document.querySelector('#df-620417e2-96f6-4ca8-8cbd-6f6b4fe428b4');\n",
              "        const dataTable =\n",
              "          await google.colab.kernel.invokeFunction('convertToInteractive',\n",
              "                                                    [key], {});\n",
              "        if (!dataTable) return;\n",
              "\n",
              "        const docLinkHtml = 'Like what you see? Visit the ' +\n",
              "          '<a target=\"_blank\" href=https://colab.research.google.com/notebooks/data_table.ipynb>data table notebook</a>'\n",
              "          + ' to learn more about interactive tables.';\n",
              "        element.innerHTML = '';\n",
              "        dataTable['output_type'] = 'display_data';\n",
              "        await google.colab.output.renderOutput(dataTable, element);\n",
              "        const docLink = document.createElement('div');\n",
              "        docLink.innerHTML = docLinkHtml;\n",
              "        element.appendChild(docLink);\n",
              "      }\n",
              "    </script>\n",
              "  </div>\n",
              "\n",
              "\n",
              "<div id=\"df-2c3367fc-f7f4-440c-af53-4f0cc2d127f0\">\n",
              "  <button class=\"colab-df-quickchart\" onclick=\"quickchart('df-2c3367fc-f7f4-440c-af53-4f0cc2d127f0')\"\n",
              "            title=\"Suggest charts\"\n",
              "            style=\"display:none;\">\n",
              "\n",
              "<svg xmlns=\"http://www.w3.org/2000/svg\" height=\"24px\"viewBox=\"0 0 24 24\"\n",
              "     width=\"24px\">\n",
              "    <g>\n",
              "        <path d=\"M19 3H5c-1.1 0-2 .9-2 2v14c0 1.1.9 2 2 2h14c1.1 0 2-.9 2-2V5c0-1.1-.9-2-2-2zM9 17H7v-7h2v7zm4 0h-2V7h2v10zm4 0h-2v-4h2v4z\"/>\n",
              "    </g>\n",
              "</svg>\n",
              "  </button>\n",
              "\n",
              "<style>\n",
              "  .colab-df-quickchart {\n",
              "      --bg-color: #E8F0FE;\n",
              "      --fill-color: #1967D2;\n",
              "      --hover-bg-color: #E2EBFA;\n",
              "      --hover-fill-color: #174EA6;\n",
              "      --disabled-fill-color: #AAA;\n",
              "      --disabled-bg-color: #DDD;\n",
              "  }\n",
              "\n",
              "  [theme=dark] .colab-df-quickchart {\n",
              "      --bg-color: #3B4455;\n",
              "      --fill-color: #D2E3FC;\n",
              "      --hover-bg-color: #434B5C;\n",
              "      --hover-fill-color: #FFFFFF;\n",
              "      --disabled-bg-color: #3B4455;\n",
              "      --disabled-fill-color: #666;\n",
              "  }\n",
              "\n",
              "  .colab-df-quickchart {\n",
              "    background-color: var(--bg-color);\n",
              "    border: none;\n",
              "    border-radius: 50%;\n",
              "    cursor: pointer;\n",
              "    display: none;\n",
              "    fill: var(--fill-color);\n",
              "    height: 32px;\n",
              "    padding: 0;\n",
              "    width: 32px;\n",
              "  }\n",
              "\n",
              "  .colab-df-quickchart:hover {\n",
              "    background-color: var(--hover-bg-color);\n",
              "    box-shadow: 0 1px 2px rgba(60, 64, 67, 0.3), 0 1px 3px 1px rgba(60, 64, 67, 0.15);\n",
              "    fill: var(--button-hover-fill-color);\n",
              "  }\n",
              "\n",
              "  .colab-df-quickchart-complete:disabled,\n",
              "  .colab-df-quickchart-complete:disabled:hover {\n",
              "    background-color: var(--disabled-bg-color);\n",
              "    fill: var(--disabled-fill-color);\n",
              "    box-shadow: none;\n",
              "  }\n",
              "\n",
              "  .colab-df-spinner {\n",
              "    border: 2px solid var(--fill-color);\n",
              "    border-color: transparent;\n",
              "    border-bottom-color: var(--fill-color);\n",
              "    animation:\n",
              "      spin 1s steps(1) infinite;\n",
              "  }\n",
              "\n",
              "  @keyframes spin {\n",
              "    0% {\n",
              "      border-color: transparent;\n",
              "      border-bottom-color: var(--fill-color);\n",
              "      border-left-color: var(--fill-color);\n",
              "    }\n",
              "    20% {\n",
              "      border-color: transparent;\n",
              "      border-left-color: var(--fill-color);\n",
              "      border-top-color: var(--fill-color);\n",
              "    }\n",
              "    30% {\n",
              "      border-color: transparent;\n",
              "      border-left-color: var(--fill-color);\n",
              "      border-top-color: var(--fill-color);\n",
              "      border-right-color: var(--fill-color);\n",
              "    }\n",
              "    40% {\n",
              "      border-color: transparent;\n",
              "      border-right-color: var(--fill-color);\n",
              "      border-top-color: var(--fill-color);\n",
              "    }\n",
              "    60% {\n",
              "      border-color: transparent;\n",
              "      border-right-color: var(--fill-color);\n",
              "    }\n",
              "    80% {\n",
              "      border-color: transparent;\n",
              "      border-right-color: var(--fill-color);\n",
              "      border-bottom-color: var(--fill-color);\n",
              "    }\n",
              "    90% {\n",
              "      border-color: transparent;\n",
              "      border-bottom-color: var(--fill-color);\n",
              "    }\n",
              "  }\n",
              "</style>\n",
              "\n",
              "  <script>\n",
              "    async function quickchart(key) {\n",
              "      const quickchartButtonEl =\n",
              "        document.querySelector('#' + key + ' button');\n",
              "      quickchartButtonEl.disabled = true;  // To prevent multiple clicks.\n",
              "      quickchartButtonEl.classList.add('colab-df-spinner');\n",
              "      try {\n",
              "        const charts = await google.colab.kernel.invokeFunction(\n",
              "            'suggestCharts', [key], {});\n",
              "      } catch (error) {\n",
              "        console.error('Error during call to suggestCharts:', error);\n",
              "      }\n",
              "      quickchartButtonEl.classList.remove('colab-df-spinner');\n",
              "      quickchartButtonEl.classList.add('colab-df-quickchart-complete');\n",
              "    }\n",
              "    (() => {\n",
              "      let quickchartButtonEl =\n",
              "        document.querySelector('#df-2c3367fc-f7f4-440c-af53-4f0cc2d127f0 button');\n",
              "      quickchartButtonEl.style.display =\n",
              "        google.colab.kernel.accessAllowed ? 'block' : 'none';\n",
              "    })();\n",
              "  </script>\n",
              "</div>\n",
              "\n",
              "    </div>\n",
              "  </div>\n"
            ],
            "application/vnd.google.colaboratory.intrinsic+json": {
              "type": "dataframe",
              "summary": "{\n  \"name\": \"customers\",\n  \"rows\": 8,\n  \"fields\": [\n    {\n      \"column\": \"active_cust\",\n      \"properties\": {\n        \"dtype\": \"number\",\n        \"std\": 35355.13337564837,\n        \"min\": 0.0,\n        \"max\": 100000.0,\n        \"num_unique_values\": 5,\n        \"samples\": [\n          0.57859,\n          1.0,\n          0.4937874544381435\n        ],\n        \"semantic_type\": \"\",\n        \"description\": \"\"\n      }\n    },\n    {\n      \"column\": \"income\",\n      \"properties\": {\n        \"dtype\": \"number\",\n        \"std\": 83076.95756410036,\n        \"min\": 1130.0,\n        \"max\": 229821.0,\n        \"num_unique_values\": 8,\n        \"samples\": [\n          1855.27991,\n          1805.0,\n          100000.0\n        ],\n        \"semantic_type\": \"\",\n        \"description\": \"\"\n      }\n    },\n    {\n      \"column\": \"months_on_network\",\n      \"properties\": {\n        \"dtype\": \"number\",\n        \"std\": 35321.3456543286,\n        \"min\": -20.0,\n        \"max\": 100000.0,\n        \"num_unique_values\": 8,\n        \"samples\": [\n          58.40245,\n          56.0,\n          100000.0\n        ],\n        \"semantic_type\": \"\",\n        \"description\": \"\"\n      }\n    },\n    {\n      \"column\": \"Num_complaints\",\n      \"properties\": {\n        \"dtype\": \"number\",\n        \"std\": 35354.06134796062,\n        \"min\": 0.2852646984109348,\n        \"max\": 100000.0,\n        \"num_unique_values\": 6,\n        \"samples\": [\n          100000.0,\n          4.01284,\n          6.0\n        ],\n        \"semantic_type\": \"\",\n        \"description\": \"\"\n      }\n    },\n    {\n      \"column\": \"number_plan_changes\",\n      \"properties\": {\n        \"dtype\": \"number\",\n        \"std\": 35354.58143604943,\n        \"min\": 0.0,\n        \"max\": 100000.0,\n        \"num_unique_values\": 7,\n        \"samples\": [\n          100000.0,\n          1.38541,\n          2.0\n        ],\n        \"semantic_type\": \"\",\n        \"description\": \"\"\n      }\n    },\n    {\n      \"column\": \"relocated\",\n      \"properties\": {\n        \"dtype\": \"number\",\n        \"std\": 35355.26570022471,\n        \"min\": 0.0,\n        \"max\": 100000.0,\n        \"num_unique_values\": 5,\n        \"samples\": [\n          0.12348,\n          1.0,\n          0.32898901491952487\n        ],\n        \"semantic_type\": \"\",\n        \"description\": \"\"\n      }\n    },\n    {\n      \"column\": \"monthly_bill\",\n      \"properties\": {\n        \"dtype\": \"number\",\n        \"std\": 35323.95957317836,\n        \"min\": 30.0,\n        \"max\": 100000.0,\n        \"num_unique_values\": 8,\n        \"samples\": [\n          95.81645,\n          87.0,\n          100000.0\n        ],\n        \"semantic_type\": \"\",\n        \"description\": \"\"\n      }\n    },\n    {\n      \"column\": \"technical_issues_per_month\",\n      \"properties\": {\n        \"dtype\": \"number\",\n        \"std\": 35354.149239558414,\n        \"min\": 1.0,\n        \"max\": 100000.0,\n        \"num_unique_values\": 7,\n        \"samples\": [\n          100000.0,\n          3.31673,\n          4.0\n        ],\n        \"semantic_type\": \"\",\n        \"description\": \"\"\n      }\n    },\n    {\n      \"column\": \"Speed_test_result\",\n      \"properties\": {\n        \"dtype\": \"number\",\n        \"std\": 35318.111783254884,\n        \"min\": 9.952553682429851,\n        \"max\": 100000.0,\n        \"num_unique_values\": 8,\n        \"samples\": [\n          81.66854,\n          81.0,\n          100000.0\n        ],\n        \"semantic_type\": \"\",\n        \"description\": \"\"\n      }\n    }\n  ]\n}"
            }
          },
          "metadata": {},
          "execution_count": 41
        }
      ]
    },
    {
      "cell_type": "code",
      "source": [
        "import matplotlib.pyplot as plt\n",
        "import seaborn as sns"
      ],
      "metadata": {
        "id": "0rhtm4xjWSsL"
      },
      "execution_count": null,
      "outputs": []
    },
    {
      "cell_type": "code",
      "source": [
        "from sklearn.preprocessing import StandardScaler\n",
        "from sklearn.linear_model import LinearRegression,LogisticRegression\n",
        "from sklearn.model_selection import train_test_split\n",
        "from sklearn.metrics import r2_score,accuracy_score,confusion_matrix,ConfusionMatrixDisplay,classification_report"
      ],
      "metadata": {
        "id": "BOiv9V4IVJs-"
      },
      "execution_count": null,
      "outputs": []
    },
    {
      "cell_type": "code",
      "source": [
        "customers.corr()[\"active_cust\"]"
      ],
      "metadata": {
        "colab": {
          "base_uri": "https://localhost:8080/",
          "height": 366
        },
        "id": "TdHjH_-N-5mb",
        "outputId": "d82778d3-c302-486d-e1d4-6cb2d0951d45"
      },
      "execution_count": null,
      "outputs": [
        {
          "output_type": "execute_result",
          "data": {
            "text/plain": [
              "active_cust                   1.000000\n",
              "income                        0.001201\n",
              "months_on_network             0.188113\n",
              "Num_complaints               -0.083481\n",
              "number_plan_changes          -0.283100\n",
              "relocated                    -0.381069\n",
              "monthly_bill                 -0.060156\n",
              "technical_issues_per_month   -0.260249\n",
              "Speed_test_result             0.156385\n",
              "Name: active_cust, dtype: float64"
            ],
            "text/html": [
              "<table border=\"1\" class=\"dataframe\">\n",
              "  <thead>\n",
              "    <tr style=\"text-align: right;\">\n",
              "      <th></th>\n",
              "      <th>active_cust</th>\n",
              "    </tr>\n",
              "  </thead>\n",
              "  <tbody>\n",
              "    <tr>\n",
              "      <th>active_cust</th>\n",
              "      <td>1.000000</td>\n",
              "    </tr>\n",
              "    <tr>\n",
              "      <th>income</th>\n",
              "      <td>0.001201</td>\n",
              "    </tr>\n",
              "    <tr>\n",
              "      <th>months_on_network</th>\n",
              "      <td>0.188113</td>\n",
              "    </tr>\n",
              "    <tr>\n",
              "      <th>Num_complaints</th>\n",
              "      <td>-0.083481</td>\n",
              "    </tr>\n",
              "    <tr>\n",
              "      <th>number_plan_changes</th>\n",
              "      <td>-0.283100</td>\n",
              "    </tr>\n",
              "    <tr>\n",
              "      <th>relocated</th>\n",
              "      <td>-0.381069</td>\n",
              "    </tr>\n",
              "    <tr>\n",
              "      <th>monthly_bill</th>\n",
              "      <td>-0.060156</td>\n",
              "    </tr>\n",
              "    <tr>\n",
              "      <th>technical_issues_per_month</th>\n",
              "      <td>-0.260249</td>\n",
              "    </tr>\n",
              "    <tr>\n",
              "      <th>Speed_test_result</th>\n",
              "      <td>0.156385</td>\n",
              "    </tr>\n",
              "  </tbody>\n",
              "</table><br><label><b>dtype:</b> float64</label>"
            ]
          },
          "metadata": {},
          "execution_count": 44
        }
      ]
    },
    {
      "cell_type": "code",
      "source": [
        "# model traning\n",
        "x = customers[['income']+['months_on_network']+['Num_complaints']+['number_plan_changes']+['relocated']+['monthly_bill']+['technical_issues_per_month']+['Speed_test_result']]\n",
        "y = customers['active_cust']\n",
        "scale = StandardScaler()\n",
        "X = scale.fit_transform(x)\n",
        "X_train,X_test,y_train,y_test = train_test_split(X,y,test_size=0.3,random_state=42)\n",
        "model =  LogisticRegression(max_iter=1000)\n",
        "fit   = model.fit(X_train,y_train)\n",
        "fit.coef_\n",
        "fit.intercept_\n",
        "# predicting the model values\n",
        "y_pred = fit.predict(X_test)\n",
        "# accuracy of the model\n",
        "print(f\"accuracy is {accuracy_score(y_test,y_pred)*100:.2f}%\")"
      ],
      "metadata": {
        "colab": {
          "base_uri": "https://localhost:8080/"
        },
        "id": "J9B8Xhtr6bXj",
        "outputId": "4148cb72-745b-49da-cf3a-c639ee8179c9"
      },
      "execution_count": null,
      "outputs": [
        {
          "output_type": "stream",
          "name": "stdout",
          "text": [
            "accuracy is 76.39%\n"
          ]
        }
      ]
    },
    {
      "cell_type": "code",
      "source": [
        "fig , ax = plt.subplots(figsize=(4,4))\n",
        "ConfusionMatrixDisplay(confusion_matrix(y_test,y_pred),display_labels=[\"Inactive\",\"Active\"]).plot(ax=ax,cmap=\"Blues\",colorbar=False)\n",
        "ax.set_xlabel(\"Predicted\")\n",
        "ax.set_ylabel(\"Actual\")\n",
        "plt.title(\"Confusion Matrix\")\n",
        "plt.show()"
      ],
      "metadata": {
        "colab": {
          "base_uri": "https://localhost:8080/",
          "height": 410
        },
        "id": "UD8fkfWUC-Rn",
        "outputId": "d0ed07f6-c801-4f85-e0e0-e6d0b827db22"
      },
      "execution_count": null,
      "outputs": [
        {
          "output_type": "display_data",
          "data": {
            "text/plain": [
              "<Figure size 400x400 with 1 Axes>"
            ],
            "image/png": "[encoded data removed]"
          },
          "metadata": {}
        }
      ]
    },
    {
      "cell_type": "code",
      "source": [
        "print(classification_report(y_test,y_pred))"
      ],
      "metadata": {
        "colab": {
          "base_uri": "https://localhost:8080/"
        },
        "id": "48fnDjgRF_dr",
        "outputId": "986781fa-3e68-4e3b-cae9-f5dfdb386d87"
      },
      "execution_count": null,
      "outputs": [
        {
          "output_type": "stream",
          "name": "stdout",
          "text": [
            "              precision    recall  f1-score   support\n",
            "\n",
            "           0       0.73      0.70      0.71     12595\n",
            "           1       0.79      0.81      0.80     17405\n",
            "\n",
            "    accuracy                           0.76     30000\n",
            "   macro avg       0.76      0.76      0.76     30000\n",
            "weighted avg       0.76      0.76      0.76     30000\n",
            "\n"
          ]
        }
      ]
    },
    {
      "cell_type": "markdown",
      "source": [
        "##Multicollinearity in Logistic Regression"
      ],
      "metadata": {
        "id": "SYhXhbqfrQpy"
      }
    },
    {
      "cell_type": "code",
      "source": [
        "def vif(data):\n",
        "  col = data.columns\n",
        "  for i in range(0,col.shape[0]):\n",
        "    y = data[col[i]]\n",
        "    x = data[col.drop(col[i])]\n",
        "    y_pred = LinearRegression().fit(x,y).predict(x)\n",
        "    vif = 1/(1-(r2_score(y,y_pred)))\n",
        "    print(f\"{col[i]} : {vif:.2f}\")\n",
        "vif(customers.drop(columns=\"active_cust\"))"
      ],
      "metadata": {
        "colab": {
          "base_uri": "https://localhost:8080/"
        },
        "id": "xBejTcjgJrJa",
        "outputId": "729a89c7-ce1d-44ec-826b-f3a893f2e624"
      },
      "execution_count": null,
      "outputs": [
        {
          "output_type": "stream",
          "name": "stdout",
          "text": [
            "income : 1.02\n",
            "months_on_network : 1.03\n",
            "Num_complaints : 1.01\n",
            "number_plan_changes : 1.59\n",
            "relocated : 1.56\n",
            "monthly_bill : 1.02\n",
            "technical_issues_per_month : 1.06\n",
            "Speed_test_result : 1.00\n"
          ]
        }
      ]
    },
    {
      "cell_type": "code",
      "source": [
        "# model traning\n",
        "x = customers[['income']+['months_on_network']+['Num_complaints']+['number_plan_changes']+['relocated']+['monthly_bill']+['technical_issues_per_month']+['Speed_test_result']]\n",
        "y = customers['active_cust']\n",
        "scale = StandardScaler()\n",
        "X = scale.fit_transform(x)\n",
        "X_train,X_test,y_train,y_test = train_test_split(X,y,test_size=0.2,random_state=42)\n",
        "model =  LogisticRegression(max_iter=1000)\n",
        "fit   = model.fit(X_train,y_train)\n",
        "fit.coef_\n",
        "fit.intercept_\n",
        "# predicting the model values\n",
        "y_pred = fit.predict(X_test)\n",
        "# accuracy of the model\n",
        "print(f\"accuracy is {accuracy_score(y_test,y_pred)*100:.2f}%\")"
      ],
      "metadata": {
        "colab": {
          "base_uri": "https://localhost:8080/"
        },
        "id": "B0qfN0imJfEn",
        "outputId": "0cf5bab7-9ea4-44bc-9cfe-5ea828351a00"
      },
      "execution_count": null,
      "outputs": [
        {
          "output_type": "stream",
          "name": "stdout",
          "text": [
            "accuracy is 76.50%\n"
          ]
        }
      ]
    },
    {
      "cell_type": "code",
      "source": [
        "import statsmodels.api as sm\n",
        "result = sm.Logit(customers['active_cust'],sm.add_constant(customers[['income']+['months_on_network']+['Num_complaints']+['number_plan_changes']+['relocated']+['monthly_bill']+['technical_issues_per_month']+['Speed_test_result']])).fit()\n",
        "print(result.summary())"
      ],
      "metadata": {
        "colab": {
          "base_uri": "https://localhost:8080/"
        },
        "id": "kT3o3DzY44ql",
        "outputId": "ed7af866-defa-4498-ff09-d13936f23af2"
      },
      "execution_count": null,
      "outputs": [
        {
          "output_type": "stream",
          "name": "stdout",
          "text": [
            "Optimization terminated successfully.\n",
            "         Current function value: 0.493647\n",
            "         Iterations 9\n",
            "                           Logit Regression Results                           \n",
            "==============================================================================\n",
            "Dep. Variable:            active_cust   No. Observations:               100000\n",
            "Model:                          Logit   Df Residuals:                    99991\n",
            "Method:                           MLE   Df Model:                            8\n",
            "Date:                Mon, 05 Aug 2024   Pseudo R-squ.:                  0.2748\n",
            "Time:                        00:59:19   Log-Likelihood:                -49365.\n",
            "converged:                       True   LL-Null:                       -68074.\n",
            "Covariance Type:            nonrobust   LLR p-value:                     0.000\n",
            "==============================================================================================\n",
            "                                 coef    std err          z      P>|z|      [0.025      0.975]\n",
            "----------------------------------------------------------------------------------------------\n",
            "const                        -17.6101      0.301    -58.538      0.000     -18.200     -17.020\n",
            "income                         0.0017   8.21e-05     20.820      0.000       0.002       0.002\n",
            "months_on_network              0.0288      0.001     28.654      0.000       0.027       0.031\n",
            "Num_complaints                -0.6865      0.030    -22.811      0.000      -0.746      -0.628\n",
            "number_plan_changes           -0.1896      0.008    -24.940      0.000      -0.205      -0.175\n",
            "relocated                     -3.1626      0.040    -79.927      0.000      -3.240      -3.085\n",
            "monthly_bill                  -0.0022      0.000    -13.995      0.000      -0.003      -0.002\n",
            "technical_issues_per_month    -0.3904      0.007    -54.581      0.000      -0.404      -0.376\n",
            "Speed_test_result              0.2222      0.002     93.435      0.000       0.218       0.227\n",
            "==============================================================================================\n"
          ]
        }
      ]
    },
    {
      "cell_type": "markdown",
      "source": [
        "##Rank ordering of impactful variables\n",
        "### the higher value higher the rank"
      ],
      "metadata": {
        "id": "Sn4RosAiDQDf"
      }
    },
    {
      "cell_type": "code",
      "source": [
        "z_values = result.tvalues\n",
        "z_values**2"
      ],
      "metadata": {
        "colab": {
          "base_uri": "https://localhost:8080/",
          "height": 366
        },
        "id": "Q8SJGoSi7b3z",
        "outputId": "384f301e-cddb-4aa5-e2eb-19774677fa28"
      },
      "execution_count": null,
      "outputs": [
        {
          "output_type": "execute_result",
          "data": {
            "text/plain": [
              "const                         3426.653867\n",
              "income                         433.463176\n",
              "months_on_network              821.061948\n",
              "Num_complaints                 520.342335\n",
              "number_plan_changes            621.981031\n",
              "relocated                     6388.288805\n",
              "monthly_bill                   195.857205\n",
              "technical_issues_per_month    2979.111044\n",
              "Speed_test_result             8730.048329\n",
              "dtype: float64"
            ],
            "text/html": [
              "<table border=\"1\" class=\"dataframe\">\n",
              "  <thead>\n",
              "    <tr style=\"text-align: right;\">\n",
              "      <th></th>\n",
              "      <th>0</th>\n",
              "    </tr>\n",
              "  </thead>\n",
              "  <tbody>\n",
              "    <tr>\n",
              "      <th>const</th>\n",
              "      <td>3426.653867</td>\n",
              "    </tr>\n",
              "    <tr>\n",
              "      <th>income</th>\n",
              "      <td>433.463176</td>\n",
              "    </tr>\n",
              "    <tr>\n",
              "      <th>months_on_network</th>\n",
              "      <td>821.061948</td>\n",
              "    </tr>\n",
              "    <tr>\n",
              "      <th>Num_complaints</th>\n",
              "      <td>520.342335</td>\n",
              "    </tr>\n",
              "    <tr>\n",
              "      <th>number_plan_changes</th>\n",
              "      <td>621.981031</td>\n",
              "    </tr>\n",
              "    <tr>\n",
              "      <th>relocated</th>\n",
              "      <td>6388.288805</td>\n",
              "    </tr>\n",
              "    <tr>\n",
              "      <th>monthly_bill</th>\n",
              "      <td>195.857205</td>\n",
              "    </tr>\n",
              "    <tr>\n",
              "      <th>technical_issues_per_month</th>\n",
              "      <td>2979.111044</td>\n",
              "    </tr>\n",
              "    <tr>\n",
              "      <th>Speed_test_result</th>\n",
              "      <td>8730.048329</td>\n",
              "    </tr>\n",
              "  </tbody>\n",
              "</table><br><label><b>dtype:</b> float64</label>"
            ]
          },
          "metadata": {},
          "execution_count": 64
        }
      ]
    }
  ]
}