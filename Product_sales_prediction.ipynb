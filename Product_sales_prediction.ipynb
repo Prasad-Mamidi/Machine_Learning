{
  "cells": [
    {
      "cell_type": "code",
      "execution_count": 17,
      "id": "a191ca93",
      "metadata": {
        "id": "a191ca93"
      },
      "outputs": [],
      "source": [
        "# \"import libraries\"\n",
        "import pandas as pd\n",
        "import numpy as nd\n",
        "import matplotlib.pyplot as plt\n",
        "from   sklearn.linear_model import LinearRegression,LogisticRegression\n",
        "# \"Reading Data\"\n",
        "sales = pd.read_csv(\"https://raw.githubusercontent.com/Prasad-Mamidi/Machine_Learning/main/Datasets/Product_sales.csv\")\n"
      ]
    },
    {
      "cell_type": "code",
      "execution_count": 4,
      "id": "a38412ba",
      "metadata": {
        "id": "a38412ba",
        "outputId": "5775a097-047a-462b-dd8d-33400ab84805",
        "colab": {
          "base_uri": "https://localhost:8080/",
          "height": 36
        }
      },
      "outputs": [
        {
          "output_type": "execute_result",
          "data": {
            "text/plain": [
              "' Data Exploration '"
            ],
            "application/vnd.google.colaboratory.intrinsic+json": {
              "type": "string"
            }
          },
          "metadata": {},
          "execution_count": 4
        }
      ],
      "source": [
        "\"\"\" Data Exploration \"\"\""
      ]
    },
    {
      "cell_type": "code",
      "execution_count": 5,
      "id": "edcf8750",
      "metadata": {
        "id": "edcf8750",
        "outputId": "09fdd8b1-c839-428b-e669-3e25e56130a7",
        "colab": {
          "base_uri": "https://localhost:8080/"
        }
      },
      "outputs": [
        {
          "output_type": "stream",
          "name": "stdout",
          "text": [
            "<class 'pandas.core.frame.DataFrame'>\n",
            "RangeIndex: 467 entries, 0 to 466\n",
            "Data columns (total 2 columns):\n",
            " #   Column  Non-Null Count  Dtype\n",
            "---  ------  --------------  -----\n",
            " 0   Age     467 non-null    int64\n",
            " 1   Bought  467 non-null    int64\n",
            "dtypes: int64(2)\n",
            "memory usage: 7.4 KB\n"
          ]
        }
      ],
      "source": [
        "sales.info()"
      ]
    },
    {
      "cell_type": "code",
      "execution_count": 7,
      "id": "7e67ac5f",
      "metadata": {
        "id": "7e67ac5f",
        "outputId": "770756cc-5959-4ae2-8402-70e373e3149d",
        "colab": {
          "base_uri": "https://localhost:8080/",
          "height": 300
        }
      },
      "outputs": [
        {
          "output_type": "execute_result",
          "data": {
            "text/plain": [
              "              Age      Bought\n",
              "count  467.000000  467.000000\n",
              "mean    29.098501    0.438972\n",
              "std     21.769248    0.496794\n",
              "min      1.000000    0.000000\n",
              "25%     10.000000    0.000000\n",
              "50%     18.000000    0.000000\n",
              "75%     51.000000    1.000000\n",
              "max     65.000000    1.000000"
            ],
            "text/html": [
              "\n",
              "  <div id=\"df-f4609fea-65ee-49e5-af9a-c3735c92d68a\" class=\"colab-df-container\">\n",
              "    <div>\n",
              "<style scoped>\n",
              "    .dataframe tbody tr th:only-of-type {\n",
              "        vertical-align: middle;\n",
              "    }\n",
              "\n",
              "    .dataframe tbody tr th {\n",
              "        vertical-align: top;\n",
              "    }\n",
              "\n",
              "    .dataframe thead th {\n",
              "        text-align: right;\n",
              "    }\n",
              "</style>\n",
              "<table border=\"1\" class=\"dataframe\">\n",
              "  <thead>\n",
              "    <tr style=\"text-align: right;\">\n",
              "      <th></th>\n",
              "      <th>Age</th>\n",
              "      <th>Bought</th>\n",
              "    </tr>\n",
              "  </thead>\n",
              "  <tbody>\n",
              "    <tr>\n",
              "      <th>count</th>\n",
              "      <td>467.000000</td>\n",
              "      <td>467.000000</td>\n",
              "    </tr>\n",
              "    <tr>\n",
              "      <th>mean</th>\n",
              "      <td>29.098501</td>\n",
              "      <td>0.438972</td>\n",
              "    </tr>\n",
              "    <tr>\n",
              "      <th>std</th>\n",
              "      <td>21.769248</td>\n",
              "      <td>0.496794</td>\n",
              "    </tr>\n",
              "    <tr>\n",
              "      <th>min</th>\n",
              "      <td>1.000000</td>\n",
              "      <td>0.000000</td>\n",
              "    </tr>\n",
              "    <tr>\n",
              "      <th>25%</th>\n",
              "      <td>10.000000</td>\n",
              "      <td>0.000000</td>\n",
              "    </tr>\n",
              "    <tr>\n",
              "      <th>50%</th>\n",
              "      <td>18.000000</td>\n",
              "      <td>0.000000</td>\n",
              "    </tr>\n",
              "    <tr>\n",
              "      <th>75%</th>\n",
              "      <td>51.000000</td>\n",
              "      <td>1.000000</td>\n",
              "    </tr>\n",
              "    <tr>\n",
              "      <th>max</th>\n",
              "      <td>65.000000</td>\n",
              "      <td>1.000000</td>\n",
              "    </tr>\n",
              "  </tbody>\n",
              "</table>\n",
              "</div>\n",
              "    <div class=\"colab-df-buttons\">\n",
              "\n",
              "  <div class=\"colab-df-container\">\n",
              "    <button class=\"colab-df-convert\" onclick=\"convertToInteractive('df-f4609fea-65ee-49e5-af9a-c3735c92d68a')\"\n",
              "            title=\"Convert this dataframe to an interactive table.\"\n",
              "            style=\"display:none;\">\n",
              "\n",
              "  <svg xmlns=\"http://www.w3.org/2000/svg\" height=\"24px\" viewBox=\"0 -960 960 960\">\n",
              "    <path d=\"M120-120v-720h720v720H120Zm60-500h600v-160H180v160Zm220 220h160v-160H400v160Zm0 220h160v-160H400v160ZM180-400h160v-160H180v160Zm440 0h160v-160H620v160ZM180-180h160v-160H180v160Zm440 0h160v-160H620v160Z\"/>\n",
              "  </svg>\n",
              "    </button>\n",
              "\n",
              "  <style>\n",
              "    .colab-df-container {\n",
              "      display:flex;\n",
              "      gap: 12px;\n",
              "    }\n",
              "\n",
              "    .colab-df-convert {\n",
              "      background-color: #E8F0FE;\n",
              "      border: none;\n",
              "      border-radius: 50%;\n",
              "      cursor: pointer;\n",
              "      display: none;\n",
              "      fill: #1967D2;\n",
              "      height: 32px;\n",
              "      padding: 0 0 0 0;\n",
              "      width: 32px;\n",
              "    }\n",
              "\n",
              "    .colab-df-convert:hover {\n",
              "      background-color: #E2EBFA;\n",
              "      box-shadow: 0px 1px 2px rgba(60, 64, 67, 0.3), 0px 1px 3px 1px rgba(60, 64, 67, 0.15);\n",
              "      fill: #174EA6;\n",
              "    }\n",
              "\n",
              "    .colab-df-buttons div {\n",
              "      margin-bottom: 4px;\n",
              "    }\n",
              "\n",
              "    [theme=dark] .colab-df-convert {\n",
              "      background-color: #3B4455;\n",
              "      fill: #D2E3FC;\n",
              "    }\n",
              "\n",
              "    [theme=dark] .colab-df-convert:hover {\n",
              "      background-color: #434B5C;\n",
              "      box-shadow: 0px 1px 3px 1px rgba(0, 0, 0, 0.15);\n",
              "      filter: drop-shadow(0px 1px 2px rgba(0, 0, 0, 0.3));\n",
              "      fill: #FFFFFF;\n",
              "    }\n",
              "  </style>\n",
              "\n",
              "    <script>\n",
              "      const buttonEl =\n",
              "        document.querySelector('#df-f4609fea-65ee-49e5-af9a-c3735c92d68a button.colab-df-convert');\n",
              "      buttonEl.style.display =\n",
              "        google.colab.kernel.accessAllowed ? 'block' : 'none';\n",
              "\n",
              "      async function convertToInteractive(key) {\n",
              "        const element = document.querySelector('#df-f4609fea-65ee-49e5-af9a-c3735c92d68a');\n",
              "        const dataTable =\n",
              "          await google.colab.kernel.invokeFunction('convertToInteractive',\n",
              "                                                    [key], {});\n",
              "        if (!dataTable) return;\n",
              "\n",
              "        const docLinkHtml = 'Like what you see? Visit the ' +\n",
              "          '<a target=\"_blank\" href=https://colab.research.google.com/notebooks/data_table.ipynb>data table notebook</a>'\n",
              "          + ' to learn more about interactive tables.';\n",
              "        element.innerHTML = '';\n",
              "        dataTable['output_type'] = 'display_data';\n",
              "        await google.colab.output.renderOutput(dataTable, element);\n",
              "        const docLink = document.createElement('div');\n",
              "        docLink.innerHTML = docLinkHtml;\n",
              "        element.appendChild(docLink);\n",
              "      }\n",
              "    </script>\n",
              "  </div>\n",
              "\n",
              "\n",
              "<div id=\"df-7371314c-9171-4719-b8f4-65153a6f9f0c\">\n",
              "  <button class=\"colab-df-quickchart\" onclick=\"quickchart('df-7371314c-9171-4719-b8f4-65153a6f9f0c')\"\n",
              "            title=\"Suggest charts\"\n",
              "            style=\"display:none;\">\n",
              "\n",
              "<svg xmlns=\"http://www.w3.org/2000/svg\" height=\"24px\"viewBox=\"0 0 24 24\"\n",
              "     width=\"24px\">\n",
              "    <g>\n",
              "        <path d=\"M19 3H5c-1.1 0-2 .9-2 2v14c0 1.1.9 2 2 2h14c1.1 0 2-.9 2-2V5c0-1.1-.9-2-2-2zM9 17H7v-7h2v7zm4 0h-2V7h2v10zm4 0h-2v-4h2v4z\"/>\n",
              "    </g>\n",
              "</svg>\n",
              "  </button>\n",
              "\n",
              "<style>\n",
              "  .colab-df-quickchart {\n",
              "      --bg-color: #E8F0FE;\n",
              "      --fill-color: #1967D2;\n",
              "      --hover-bg-color: #E2EBFA;\n",
              "      --hover-fill-color: #174EA6;\n",
              "      --disabled-fill-color: #AAA;\n",
              "      --disabled-bg-color: #DDD;\n",
              "  }\n",
              "\n",
              "  [theme=dark] .colab-df-quickchart {\n",
              "      --bg-color: #3B4455;\n",
              "      --fill-color: #D2E3FC;\n",
              "      --hover-bg-color: #434B5C;\n",
              "      --hover-fill-color: #FFFFFF;\n",
              "      --disabled-bg-color: #3B4455;\n",
              "      --disabled-fill-color: #666;\n",
              "  }\n",
              "\n",
              "  .colab-df-quickchart {\n",
              "    background-color: var(--bg-color);\n",
              "    border: none;\n",
              "    border-radius: 50%;\n",
              "    cursor: pointer;\n",
              "    display: none;\n",
              "    fill: var(--fill-color);\n",
              "    height: 32px;\n",
              "    padding: 0;\n",
              "    width: 32px;\n",
              "  }\n",
              "\n",
              "  .colab-df-quickchart:hover {\n",
              "    background-color: var(--hover-bg-color);\n",
              "    box-shadow: 0 1px 2px rgba(60, 64, 67, 0.3), 0 1px 3px 1px rgba(60, 64, 67, 0.15);\n",
              "    fill: var(--button-hover-fill-color);\n",
              "  }\n",
              "\n",
              "  .colab-df-quickchart-complete:disabled,\n",
              "  .colab-df-quickchart-complete:disabled:hover {\n",
              "    background-color: var(--disabled-bg-color);\n",
              "    fill: var(--disabled-fill-color);\n",
              "    box-shadow: none;\n",
              "  }\n",
              "\n",
              "  .colab-df-spinner {\n",
              "    border: 2px solid var(--fill-color);\n",
              "    border-color: transparent;\n",
              "    border-bottom-color: var(--fill-color);\n",
              "    animation:\n",
              "      spin 1s steps(1) infinite;\n",
              "  }\n",
              "\n",
              "  @keyframes spin {\n",
              "    0% {\n",
              "      border-color: transparent;\n",
              "      border-bottom-color: var(--fill-color);\n",
              "      border-left-color: var(--fill-color);\n",
              "    }\n",
              "    20% {\n",
              "      border-color: transparent;\n",
              "      border-left-color: var(--fill-color);\n",
              "      border-top-color: var(--fill-color);\n",
              "    }\n",
              "    30% {\n",
              "      border-color: transparent;\n",
              "      border-left-color: var(--fill-color);\n",
              "      border-top-color: var(--fill-color);\n",
              "      border-right-color: var(--fill-color);\n",
              "    }\n",
              "    40% {\n",
              "      border-color: transparent;\n",
              "      border-right-color: var(--fill-color);\n",
              "      border-top-color: var(--fill-color);\n",
              "    }\n",
              "    60% {\n",
              "      border-color: transparent;\n",
              "      border-right-color: var(--fill-color);\n",
              "    }\n",
              "    80% {\n",
              "      border-color: transparent;\n",
              "      border-right-color: var(--fill-color);\n",
              "      border-bottom-color: var(--fill-color);\n",
              "    }\n",
              "    90% {\n",
              "      border-color: transparent;\n",
              "      border-bottom-color: var(--fill-color);\n",
              "    }\n",
              "  }\n",
              "</style>\n",
              "\n",
              "  <script>\n",
              "    async function quickchart(key) {\n",
              "      const quickchartButtonEl =\n",
              "        document.querySelector('#' + key + ' button');\n",
              "      quickchartButtonEl.disabled = true;  // To prevent multiple clicks.\n",
              "      quickchartButtonEl.classList.add('colab-df-spinner');\n",
              "      try {\n",
              "        const charts = await google.colab.kernel.invokeFunction(\n",
              "            'suggestCharts', [key], {});\n",
              "      } catch (error) {\n",
              "        console.error('Error during call to suggestCharts:', error);\n",
              "      }\n",
              "      quickchartButtonEl.classList.remove('colab-df-spinner');\n",
              "      quickchartButtonEl.classList.add('colab-df-quickchart-complete');\n",
              "    }\n",
              "    (() => {\n",
              "      let quickchartButtonEl =\n",
              "        document.querySelector('#df-7371314c-9171-4719-b8f4-65153a6f9f0c button');\n",
              "      quickchartButtonEl.style.display =\n",
              "        google.colab.kernel.accessAllowed ? 'block' : 'none';\n",
              "    })();\n",
              "  </script>\n",
              "</div>\n",
              "\n",
              "    </div>\n",
              "  </div>\n"
            ],
            "application/vnd.google.colaboratory.intrinsic+json": {
              "type": "dataframe",
              "summary": "{\n  \"name\": \"sales\",\n  \"rows\": 8,\n  \"fields\": [\n    {\n      \"column\": \"Age\",\n      \"properties\": {\n        \"dtype\": \"number\",\n        \"std\": 156.6326076058341,\n        \"min\": 1.0,\n        \"max\": 467.0,\n        \"num_unique_values\": 8,\n        \"samples\": [\n          29.09850107066381,\n          18.0,\n          467.0\n        ],\n        \"semantic_type\": \"\",\n        \"description\": \"\"\n      }\n    },\n    {\n      \"column\": \"Bought\",\n      \"properties\": {\n        \"dtype\": \"number\",\n        \"std\": 164.96167800989625,\n        \"min\": 0.0,\n        \"max\": 467.0,\n        \"num_unique_values\": 5,\n        \"samples\": [\n          0.43897216274089934,\n          1.0,\n          0.49679381185568555\n        ],\n        \"semantic_type\": \"\",\n        \"description\": \"\"\n      }\n    }\n  ]\n}"
            }
          },
          "metadata": {},
          "execution_count": 7
        }
      ],
      "source": [
        "sales.describe()"
      ]
    },
    {
      "cell_type": "code",
      "execution_count": 10,
      "id": "0204ab33",
      "metadata": {
        "id": "0204ab33",
        "outputId": "341e6571-1a45-495f-b12e-2ad24aba939a",
        "colab": {
          "base_uri": "https://localhost:8080/",
          "height": 410
        }
      },
      "outputs": [
        {
          "output_type": "display_data",
          "data": {
            "text/plain": [
              "<Figure size 600x400 with 1 Axes>"
            ],
            "image/png": "[encoded data removed]"
          },
          "metadata": {}
        }
      ],
      "source": [
        "# \"Feature Selction\"\n",
        "x = sales[[\"Age\"]]\n",
        "y = sales[[\"Bought\"]]\n",
        "\n",
        "# \"model training\"\n",
        "model        = LinearRegression()\n",
        "fit_model    = model.fit(x,y)\n",
        "\n",
        "# plotting the model\n",
        "plt.subplots(figsize = (6,4))\n",
        "plt.scatter(x,y,color = \"C2\",label=\"Actual\")\n",
        "plt.plot(x,fit_model.predict(x),color=\"C1\",label=\"Predicted\")\n",
        "plt.legend(loc=[0.745,0.4])\n",
        "plt.xlabel(\"Age\")\n",
        "plt.ylabel(\"Bought\")\n",
        "plt.title(\"Age --> Actual_Bought vs Predicted_Bought\")\n",
        "plt.show()"
      ]
    },
    {
      "cell_type": "code",
      "source": [
        "from sklearn.metrics import r2_score\n",
        "r2_score(y,fit_model.predict(x))"
      ],
      "metadata": {
        "id": "cfq54KyjmNtt",
        "outputId": "89f8e4fa-c374-47da-d52e-f12e77a88d5d",
        "colab": {
          "base_uri": "https://localhost:8080/"
        }
      },
      "id": "cfq54KyjmNtt",
      "execution_count": 31,
      "outputs": [
        {
          "output_type": "execute_result",
          "data": {
            "text/plain": [
              "0.8421243929527737"
            ]
          },
          "metadata": {},
          "execution_count": 31
        }
      ]
    },
    {
      "cell_type": "code",
      "execution_count": 14,
      "id": "20361cf3",
      "metadata": {
        "id": "20361cf3",
        "outputId": "f1163830-5ef7-4357-fb2d-c1ed06b9e672",
        "colab": {
          "base_uri": "https://localhost:8080/"
        }
      },
      "outputs": [
        {
          "output_type": "execute_result",
          "data": {
            "text/plain": [
              "array([[-0.08664394]])"
            ]
          },
          "metadata": {},
          "execution_count": 14
        }
      ],
      "source": [
        "fit_model.predict(pd.DataFrame({\"Age\":[4]}))"
      ]
    },
    {
      "cell_type": "code",
      "source": [
        "fit_model.predict(pd.DataFrame({\"Age\":[105]}))"
      ],
      "metadata": {
        "id": "4sAnKJJsdFd7",
        "outputId": "350fcf81-4e98-48f5-d82c-8c358225bef8",
        "colab": {
          "base_uri": "https://localhost:8080/"
        }
      },
      "id": "4sAnKJJsdFd7",
      "execution_count": 15,
      "outputs": [
        {
          "output_type": "execute_result",
          "data": {
            "text/plain": [
              "array([[2.02851132]])"
            ]
          },
          "metadata": {},
          "execution_count": 15
        }
      ]
    },
    {
      "cell_type": "markdown",
      "source": [
        "###The outcome variable indicating whether a purchase was made only has two possible values: 0 for not bought and 1 for bought. Therefore, a linear regression model, which produces continuous numerical values, is not suitable for this type of data.Hence,I am choosing alternate model for best fit model."
      ],
      "metadata": {
        "id": "W67vgAWkdIsu"
      },
      "id": "W67vgAWkdIsu"
    },
    {
      "cell_type": "markdown",
      "source": [
        "##Logistic Regression\n"
      ],
      "metadata": {
        "id": "Np22T1yPic7U"
      },
      "id": "Np22T1yPic7U"
    },
    {
      "cell_type": "code",
      "source": [
        "# \"Feature Selction\"\n",
        "x = sales[[\"Age\"]]\n",
        "y = sales[\"Bought\"]\n",
        "\n",
        "# \"model training\"\n",
        "logistic = LogisticRegression()\n",
        "logistic.fit(x,y)\n",
        "\n",
        "# plotting the model\n",
        "plt.subplots(figsize = (6,4))\n",
        "plt.scatter(x,y,color = \"C2\",label=\"Actual\")\n",
        "plt.plot(x,logistic.predict(x),color=\"C1\",label=\"Predicted\")\n",
        "plt.legend(loc=[0.745,0.4])\n",
        "plt.xlabel(\"Age\")\n",
        "plt.ylabel(\"Bought\")\n",
        "plt.title(\"Age --> Actual_Bought vs Predicted_Bought\")\n",
        "plt.show()"
      ],
      "metadata": {
        "id": "fPsRF10LeNDT",
        "outputId": "7ad12834-59f4-4b8f-b02d-0cf59fa9bbf4",
        "colab": {
          "base_uri": "https://localhost:8080/",
          "height": 410
        }
      },
      "id": "fPsRF10LeNDT",
      "execution_count": 47,
      "outputs": [
        {
          "output_type": "display_data",
          "data": {
            "text/plain": [
              "<Figure size 600x400 with 1 Axes>"
            ],
            "image/png": "[encoded data removed]"
          },
          "metadata": {}
        }
      ]
    },
    {
      "cell_type": "code",
      "source": [
        "from sklearn.metrics import accuracy_score,confusion_matrix\n",
        "accuracy_score(y,logistic.predict(x))\n",
        "# r2_score(y,logistic.predict(x))"
      ],
      "metadata": {
        "id": "UV7BBC4Qmps7",
        "outputId": "4e14ce89-f774-421e-d676-c8e77779073c",
        "colab": {
          "base_uri": "https://localhost:8080/"
        }
      },
      "id": "UV7BBC4Qmps7",
      "execution_count": 51,
      "outputs": [
        {
          "output_type": "execute_result",
          "data": {
            "text/plain": [
              "0.9828693790149893"
            ]
          },
          "metadata": {},
          "execution_count": 51
        }
      ]
    },
    {
      "cell_type": "code",
      "source": [
        "confusion_matrix(y,logistic.predict(x))"
      ],
      "metadata": {
        "id": "dCp-3LfjpTyO",
        "outputId": "f828011f-e594-4c9f-9e79-c793ad104960",
        "colab": {
          "base_uri": "https://localhost:8080/"
        }
      },
      "id": "dCp-3LfjpTyO",
      "execution_count": 52,
      "outputs": [
        {
          "output_type": "execute_result",
          "data": {
            "text/plain": [
              "array([[257,   5],\n",
              "       [  3, 202]])"
            ]
          },
          "metadata": {},
          "execution_count": 52
        }
      ]
    },
    {
      "cell_type": "markdown",
      "source": [
        "### predicting the Bought varaible"
      ],
      "metadata": {
        "id": "mdgaExmEj0AZ"
      },
      "id": "mdgaExmEj0AZ"
    },
    {
      "cell_type": "code",
      "source": [
        "logistic.predict(pd.DataFrame({\"Age\":[0,1,2,3,4,5,6,7,8,9,10,11,12]}))"
      ],
      "metadata": {
        "id": "3fDqAxcFjT-I",
        "outputId": "d8ec125b-8fc5-4c24-b19a-56a97e104e61",
        "colab": {
          "base_uri": "https://localhost:8080/"
        }
      },
      "id": "3fDqAxcFjT-I",
      "execution_count": 39,
      "outputs": [
        {
          "output_type": "execute_result",
          "data": {
            "text/plain": [
              "array([0, 0, 0, 0, 0, 0, 0, 0, 0, 0, 0, 0, 0])"
            ]
          },
          "metadata": {},
          "execution_count": 39
        }
      ]
    },
    {
      "cell_type": "code",
      "source": [
        "logistic.predict(pd.DataFrame({\"Age\":[30]}))"
      ],
      "metadata": {
        "id": "vLSiu-mjjnxl",
        "outputId": "7f1bfd6b-10fe-4d11-e2c3-fab71b692841",
        "colab": {
          "base_uri": "https://localhost:8080/"
        }
      },
      "id": "vLSiu-mjjnxl",
      "execution_count": 40,
      "outputs": [
        {
          "output_type": "execute_result",
          "data": {
            "text/plain": [
              "array([0])"
            ]
          },
          "metadata": {},
          "execution_count": 40
        }
      ]
    }
  ],
  "metadata": {
    "kernelspec": {
      "display_name": "Python 3 (ipykernel)",
      "language": "python",
      "name": "python3"
    },
    "language_info": {
      "codemirror_mode": {
        "name": "ipython",
        "version": 3
      },
      "file_extension": ".py",
      "mimetype": "text/x-python",
      "name": "python",
      "nbconvert_exporter": "python",
      "pygments_lexer": "ipython3",
      "version": "3.11.5"
    },
    "colab": {
      "provenance": []
    }
  },
  "nbformat": 4,
  "nbformat_minor": 5
}