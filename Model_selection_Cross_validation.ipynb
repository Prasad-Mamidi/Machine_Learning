{
  "nbformat": 4,
  "nbformat_minor": 0,
  "metadata": {
    "colab": {
      "provenance": [],
      "authorship_tag": "ABX9TyMcqVjzTeRtBUgBqBy/mdIx"
    },
    "kernelspec": {
      "name": "python3",
      "display_name": "Python 3"
    },
    "language_info": {
      "name": "python"
    }
  },
  "cells": [
    {
      "cell_type": "code",
      "execution_count": 75,
      "metadata": {
        "id": "IshOwZNk2_r0"
      },
      "outputs": [],
      "source": [
        "import pandas as pd\n",
        "from sklearn.metrics import confusion_matrix\n",
        "import  statsmodels.formula.api as sm\n",
        "from sklearn.metrics import roc_curve,auc\n",
        "import matplotlib.pyplot as plt"
      ]
    },
    {
      "cell_type": "code",
      "source": [
        "credit_loan = pd.read_csv('https://raw.githubusercontent.com/Prasad-Mamidi/Machine_Learning/main/Datasets/Credit_Risk_CV.csv')"
      ],
      "metadata": {
        "id": "y9GNqTFF3TyL"
      },
      "execution_count": 76,
      "outputs": []
    },
    {
      "cell_type": "code",
      "source": [
        "credit_loan.head()"
      ],
      "metadata": {
        "colab": {
          "base_uri": "https://localhost:8080/",
          "height": 226
        },
        "id": "Yn1G_ndp3ej1",
        "outputId": "dc6302bf-063c-48de-9636-7ea7774be9de"
      },
      "execution_count": 77,
      "outputs": [
        {
          "output_type": "execute_result",
          "data": {
            "text/plain": [
              "   Sr_No  SeriousDlqin2yrs  util_new  age_new  num_30_59_dpd_new  \\\n",
              "0      3                 0  0.658180       38                  1   \n",
              "1      4                 0  0.233810       30                  0   \n",
              "2      5                 0  0.907239       49                  1   \n",
              "3      7                 0  0.305682       57                  0   \n",
              "4      8                 0  0.754464       39                  0   \n",
              "\n",
              "   DebtRatio_new_ind  DebtRatio_new  MonthlyIncome_ind  MonthlyIncome_new  \\\n",
              "0                  0       0.085113                  1               3042   \n",
              "1                  0       0.036050                  1               3300   \n",
              "2                  0       0.024926                  1               5400   \n",
              "3                  1       0.366508                  0               5400   \n",
              "4                  0       0.209940                  1               3500   \n",
              "\n",
              "   Open_Credit_lines_new  num_90_dpd_new  Real_estate_loans_new  \\\n",
              "0                      2               1                      0   \n",
              "1                      5               0                      0   \n",
              "2                      7               0                      1   \n",
              "3                      8               0                      3   \n",
              "4                      8               0                      0   \n",
              "\n",
              "   num_60_dpd_new  NumberOfDependents_new  \n",
              "0               0                       0  \n",
              "1               0                       0  \n",
              "2               0                       0  \n",
              "3               0                       0  \n",
              "4               0                       0  "
            ],
            "text/html": [
              "\n",
              "  <div id=\"df-dfffe3d8-eba4-4e51-80d1-5d30b560ed43\" class=\"colab-df-container\">\n",
              "    <div>\n",
              "<style scoped>\n",
              "    .dataframe tbody tr th:only-of-type {\n",
              "        vertical-align: middle;\n",
              "    }\n",
              "\n",
              "    .dataframe tbody tr th {\n",
              "        vertical-align: top;\n",
              "    }\n",
              "\n",
              "    .dataframe thead th {\n",
              "        text-align: right;\n",
              "    }\n",
              "</style>\n",
              "<table border=\"1\" class=\"dataframe\">\n",
              "  <thead>\n",
              "    <tr style=\"text-align: right;\">\n",
              "      <th></th>\n",
              "      <th>Sr_No</th>\n",
              "      <th>SeriousDlqin2yrs</th>\n",
              "      <th>util_new</th>\n",
              "      <th>age_new</th>\n",
              "      <th>num_30_59_dpd_new</th>\n",
              "      <th>DebtRatio_new_ind</th>\n",
              "      <th>DebtRatio_new</th>\n",
              "      <th>MonthlyIncome_ind</th>\n",
              "      <th>MonthlyIncome_new</th>\n",
              "      <th>Open_Credit_lines_new</th>\n",
              "      <th>num_90_dpd_new</th>\n",
              "      <th>Real_estate_loans_new</th>\n",
              "      <th>num_60_dpd_new</th>\n",
              "      <th>NumberOfDependents_new</th>\n",
              "    </tr>\n",
              "  </thead>\n",
              "  <tbody>\n",
              "    <tr>\n",
              "      <th>0</th>\n",
              "      <td>3</td>\n",
              "      <td>0</td>\n",
              "      <td>0.658180</td>\n",
              "      <td>38</td>\n",
              "      <td>1</td>\n",
              "      <td>0</td>\n",
              "      <td>0.085113</td>\n",
              "      <td>1</td>\n",
              "      <td>3042</td>\n",
              "      <td>2</td>\n",
              "      <td>1</td>\n",
              "      <td>0</td>\n",
              "      <td>0</td>\n",
              "      <td>0</td>\n",
              "    </tr>\n",
              "    <tr>\n",
              "      <th>1</th>\n",
              "      <td>4</td>\n",
              "      <td>0</td>\n",
              "      <td>0.233810</td>\n",
              "      <td>30</td>\n",
              "      <td>0</td>\n",
              "      <td>0</td>\n",
              "      <td>0.036050</td>\n",
              "      <td>1</td>\n",
              "      <td>3300</td>\n",
              "      <td>5</td>\n",
              "      <td>0</td>\n",
              "      <td>0</td>\n",
              "      <td>0</td>\n",
              "      <td>0</td>\n",
              "    </tr>\n",
              "    <tr>\n",
              "      <th>2</th>\n",
              "      <td>5</td>\n",
              "      <td>0</td>\n",
              "      <td>0.907239</td>\n",
              "      <td>49</td>\n",
              "      <td>1</td>\n",
              "      <td>0</td>\n",
              "      <td>0.024926</td>\n",
              "      <td>1</td>\n",
              "      <td>5400</td>\n",
              "      <td>7</td>\n",
              "      <td>0</td>\n",
              "      <td>1</td>\n",
              "      <td>0</td>\n",
              "      <td>0</td>\n",
              "    </tr>\n",
              "    <tr>\n",
              "      <th>3</th>\n",
              "      <td>7</td>\n",
              "      <td>0</td>\n",
              "      <td>0.305682</td>\n",
              "      <td>57</td>\n",
              "      <td>0</td>\n",
              "      <td>1</td>\n",
              "      <td>0.366508</td>\n",
              "      <td>0</td>\n",
              "      <td>5400</td>\n",
              "      <td>8</td>\n",
              "      <td>0</td>\n",
              "      <td>3</td>\n",
              "      <td>0</td>\n",
              "      <td>0</td>\n",
              "    </tr>\n",
              "    <tr>\n",
              "      <th>4</th>\n",
              "      <td>8</td>\n",
              "      <td>0</td>\n",
              "      <td>0.754464</td>\n",
              "      <td>39</td>\n",
              "      <td>0</td>\n",
              "      <td>0</td>\n",
              "      <td>0.209940</td>\n",
              "      <td>1</td>\n",
              "      <td>3500</td>\n",
              "      <td>8</td>\n",
              "      <td>0</td>\n",
              "      <td>0</td>\n",
              "      <td>0</td>\n",
              "      <td>0</td>\n",
              "    </tr>\n",
              "  </tbody>\n",
              "</table>\n",
              "</div>\n",
              "    <div class=\"colab-df-buttons\">\n",
              "\n",
              "  <div class=\"colab-df-container\">\n",
              "    <button class=\"colab-df-convert\" onclick=\"convertToInteractive('df-dfffe3d8-eba4-4e51-80d1-5d30b560ed43')\"\n",
              "            title=\"Convert this dataframe to an interactive table.\"\n",
              "            style=\"display:none;\">\n",
              "\n",
              "  <svg xmlns=\"http://www.w3.org/2000/svg\" height=\"24px\" viewBox=\"0 -960 960 960\">\n",
              "    <path d=\"M120-120v-720h720v720H120Zm60-500h600v-160H180v160Zm220 220h160v-160H400v160Zm0 220h160v-160H400v160ZM180-400h160v-160H180v160Zm440 0h160v-160H620v160ZM180-180h160v-160H180v160Zm440 0h160v-160H620v160Z\"/>\n",
              "  </svg>\n",
              "    </button>\n",
              "\n",
              "  <style>\n",
              "    .colab-df-container {\n",
              "      display:flex;\n",
              "      gap: 12px;\n",
              "    }\n",
              "\n",
              "    .colab-df-convert {\n",
              "      background-color: #E8F0FE;\n",
              "      border: none;\n",
              "      border-radius: 50%;\n",
              "      cursor: pointer;\n",
              "      display: none;\n",
              "      fill: #1967D2;\n",
              "      height: 32px;\n",
              "      padding: 0 0 0 0;\n",
              "      width: 32px;\n",
              "    }\n",
              "\n",
              "    .colab-df-convert:hover {\n",
              "      background-color: #E2EBFA;\n",
              "      box-shadow: 0px 1px 2px rgba(60, 64, 67, 0.3), 0px 1px 3px 1px rgba(60, 64, 67, 0.15);\n",
              "      fill: #174EA6;\n",
              "    }\n",
              "\n",
              "    .colab-df-buttons div {\n",
              "      margin-bottom: 4px;\n",
              "    }\n",
              "\n",
              "    [theme=dark] .colab-df-convert {\n",
              "      background-color: #3B4455;\n",
              "      fill: #D2E3FC;\n",
              "    }\n",
              "\n",
              "    [theme=dark] .colab-df-convert:hover {\n",
              "      background-color: #434B5C;\n",
              "      box-shadow: 0px 1px 3px 1px rgba(0, 0, 0, 0.15);\n",
              "      filter: drop-shadow(0px 1px 2px rgba(0, 0, 0, 0.3));\n",
              "      fill: #FFFFFF;\n",
              "    }\n",
              "  </style>\n",
              "\n",
              "    <script>\n",
              "      const buttonEl =\n",
              "        document.querySelector('#df-dfffe3d8-eba4-4e51-80d1-5d30b560ed43 button.colab-df-convert');\n",
              "      buttonEl.style.display =\n",
              "        google.colab.kernel.accessAllowed ? 'block' : 'none';\n",
              "\n",
              "      async function convertToInteractive(key) {\n",
              "        const element = document.querySelector('#df-dfffe3d8-eba4-4e51-80d1-5d30b560ed43');\n",
              "        const dataTable =\n",
              "          await google.colab.kernel.invokeFunction('convertToInteractive',\n",
              "                                                    [key], {});\n",
              "        if (!dataTable) return;\n",
              "\n",
              "        const docLinkHtml = 'Like what you see? Visit the ' +\n",
              "          '<a target=\"_blank\" href=https://colab.research.google.com/notebooks/data_table.ipynb>data table notebook</a>'\n",
              "          + ' to learn more about interactive tables.';\n",
              "        element.innerHTML = '';\n",
              "        dataTable['output_type'] = 'display_data';\n",
              "        await google.colab.output.renderOutput(dataTable, element);\n",
              "        const docLink = document.createElement('div');\n",
              "        docLink.innerHTML = docLinkHtml;\n",
              "        element.appendChild(docLink);\n",
              "      }\n",
              "    </script>\n",
              "  </div>\n",
              "\n",
              "\n",
              "<div id=\"df-aa28277e-9604-48d0-b67b-e78160435eeb\">\n",
              "  <button class=\"colab-df-quickchart\" onclick=\"quickchart('df-aa28277e-9604-48d0-b67b-e78160435eeb')\"\n",
              "            title=\"Suggest charts\"\n",
              "            style=\"display:none;\">\n",
              "\n",
              "<svg xmlns=\"http://www.w3.org/2000/svg\" height=\"24px\"viewBox=\"0 0 24 24\"\n",
              "     width=\"24px\">\n",
              "    <g>\n",
              "        <path d=\"M19 3H5c-1.1 0-2 .9-2 2v14c0 1.1.9 2 2 2h14c1.1 0 2-.9 2-2V5c0-1.1-.9-2-2-2zM9 17H7v-7h2v7zm4 0h-2V7h2v10zm4 0h-2v-4h2v4z\"/>\n",
              "    </g>\n",
              "</svg>\n",
              "  </button>\n",
              "\n",
              "<style>\n",
              "  .colab-df-quickchart {\n",
              "      --bg-color: #E8F0FE;\n",
              "      --fill-color: #1967D2;\n",
              "      --hover-bg-color: #E2EBFA;\n",
              "      --hover-fill-color: #174EA6;\n",
              "      --disabled-fill-color: #AAA;\n",
              "      --disabled-bg-color: #DDD;\n",
              "  }\n",
              "\n",
              "  [theme=dark] .colab-df-quickchart {\n",
              "      --bg-color: #3B4455;\n",
              "      --fill-color: #D2E3FC;\n",
              "      --hover-bg-color: #434B5C;\n",
              "      --hover-fill-color: #FFFFFF;\n",
              "      --disabled-bg-color: #3B4455;\n",
              "      --disabled-fill-color: #666;\n",
              "  }\n",
              "\n",
              "  .colab-df-quickchart {\n",
              "    background-color: var(--bg-color);\n",
              "    border: none;\n",
              "    border-radius: 50%;\n",
              "    cursor: pointer;\n",
              "    display: none;\n",
              "    fill: var(--fill-color);\n",
              "    height: 32px;\n",
              "    padding: 0;\n",
              "    width: 32px;\n",
              "  }\n",
              "\n",
              "  .colab-df-quickchart:hover {\n",
              "    background-color: var(--hover-bg-color);\n",
              "    box-shadow: 0 1px 2px rgba(60, 64, 67, 0.3), 0 1px 3px 1px rgba(60, 64, 67, 0.15);\n",
              "    fill: var(--button-hover-fill-color);\n",
              "  }\n",
              "\n",
              "  .colab-df-quickchart-complete:disabled,\n",
              "  .colab-df-quickchart-complete:disabled:hover {\n",
              "    background-color: var(--disabled-bg-color);\n",
              "    fill: var(--disabled-fill-color);\n",
              "    box-shadow: none;\n",
              "  }\n",
              "\n",
              "  .colab-df-spinner {\n",
              "    border: 2px solid var(--fill-color);\n",
              "    border-color: transparent;\n",
              "    border-bottom-color: var(--fill-color);\n",
              "    animation:\n",
              "      spin 1s steps(1) infinite;\n",
              "  }\n",
              "\n",
              "  @keyframes spin {\n",
              "    0% {\n",
              "      border-color: transparent;\n",
              "      border-bottom-color: var(--fill-color);\n",
              "      border-left-color: var(--fill-color);\n",
              "    }\n",
              "    20% {\n",
              "      border-color: transparent;\n",
              "      border-left-color: var(--fill-color);\n",
              "      border-top-color: var(--fill-color);\n",
              "    }\n",
              "    30% {\n",
              "      border-color: transparent;\n",
              "      border-left-color: var(--fill-color);\n",
              "      border-top-color: var(--fill-color);\n",
              "      border-right-color: var(--fill-color);\n",
              "    }\n",
              "    40% {\n",
              "      border-color: transparent;\n",
              "      border-right-color: var(--fill-color);\n",
              "      border-top-color: var(--fill-color);\n",
              "    }\n",
              "    60% {\n",
              "      border-color: transparent;\n",
              "      border-right-color: var(--fill-color);\n",
              "    }\n",
              "    80% {\n",
              "      border-color: transparent;\n",
              "      border-right-color: var(--fill-color);\n",
              "      border-bottom-color: var(--fill-color);\n",
              "    }\n",
              "    90% {\n",
              "      border-color: transparent;\n",
              "      border-bottom-color: var(--fill-color);\n",
              "    }\n",
              "  }\n",
              "</style>\n",
              "\n",
              "  <script>\n",
              "    async function quickchart(key) {\n",
              "      const quickchartButtonEl =\n",
              "        document.querySelector('#' + key + ' button');\n",
              "      quickchartButtonEl.disabled = true;  // To prevent multiple clicks.\n",
              "      quickchartButtonEl.classList.add('colab-df-spinner');\n",
              "      try {\n",
              "        const charts = await google.colab.kernel.invokeFunction(\n",
              "            'suggestCharts', [key], {});\n",
              "      } catch (error) {\n",
              "        console.error('Error during call to suggestCharts:', error);\n",
              "      }\n",
              "      quickchartButtonEl.classList.remove('colab-df-spinner');\n",
              "      quickchartButtonEl.classList.add('colab-df-quickchart-complete');\n",
              "    }\n",
              "    (() => {\n",
              "      let quickchartButtonEl =\n",
              "        document.querySelector('#df-aa28277e-9604-48d0-b67b-e78160435eeb button');\n",
              "      quickchartButtonEl.style.display =\n",
              "        google.colab.kernel.accessAllowed ? 'block' : 'none';\n",
              "    })();\n",
              "  </script>\n",
              "</div>\n",
              "\n",
              "    </div>\n",
              "  </div>\n"
            ],
            "application/vnd.google.colaboratory.intrinsic+json": {
              "type": "dataframe",
              "variable_name": "credit_loan"
            }
          },
          "metadata": {},
          "execution_count": 77
        }
      ]
    },
    {
      "cell_type": "code",
      "source": [
        "def ols_formula(df,dependent_var):\n",
        "  col = list(df.columns)\n",
        "  col.remove(dependent_var)\n",
        "  independent_vars = col\n",
        "  formula = dependent_var+'~'+'+'.join(independent_vars)\n",
        "  return formula\n"
      ],
      "metadata": {
        "id": "bVeoguiL3yIa"
      },
      "execution_count": 78,
      "outputs": []
    },
    {
      "cell_type": "code",
      "source": [
        "model_formula = ols_formula(credit_loan.iloc[:,1:],\"SeriousDlqin2yrs\")\n",
        "print(model_formula)\n",
        "model = sm.logit(model_formula,data=credit_loan)\n",
        "result = model.fit()\n",
        "print(result.summary())"
      ],
      "metadata": {
        "colab": {
          "base_uri": "https://localhost:8080/"
        },
        "id": "wv3MwOWT5fjW",
        "outputId": "1177b3f5-4307-4991-82c0-b635a2245616"
      },
      "execution_count": 79,
      "outputs": [
        {
          "output_type": "stream",
          "name": "stdout",
          "text": [
            "SeriousDlqin2yrs~util_new+age_new+num_30_59_dpd_new+DebtRatio_new_ind+DebtRatio_new+MonthlyIncome_ind+MonthlyIncome_new+Open_Credit_lines_new+num_90_dpd_new+Real_estate_loans_new+num_60_dpd_new+NumberOfDependents_new\n",
            "Optimization terminated successfully.\n",
            "         Current function value: 0.193444\n",
            "         Iterations 8\n",
            "                           Logit Regression Results                           \n",
            "==============================================================================\n",
            "Dep. Variable:       SeriousDlqin2yrs   No. Observations:               150000\n",
            "Model:                          Logit   Df Residuals:                   149987\n",
            "Method:                           MLE   Df Model:                           12\n",
            "Date:                Sun, 18 Aug 2024   Pseudo R-squ.:                  0.2117\n",
            "Time:                        07:19:39   Log-Likelihood:                -29017.\n",
            "converged:                       True   LL-Null:                       -36808.\n",
            "Covariance Type:            nonrobust   LLR p-value:                     0.000\n",
            "==========================================================================================\n",
            "                             coef    std err          z      P>|z|      [0.025      0.975]\n",
            "------------------------------------------------------------------------------------------\n",
            "Intercept                 -3.5074      0.080    -43.799      0.000      -3.664      -3.350\n",
            "util_new                   1.4764      0.033     44.414      0.000       1.411       1.542\n",
            "age_new                   -0.0192      0.001    -20.566      0.000      -0.021      -0.017\n",
            "num_30_59_dpd_new          0.4364      0.011     39.272      0.000       0.415       0.458\n",
            "DebtRatio_new_ind          0.4078      0.046      8.821      0.000       0.317       0.498\n",
            "DebtRatio_new              0.7831      0.067     11.734      0.000       0.652       0.914\n",
            "MonthlyIncome_ind          0.4513      0.053      8.579      0.000       0.348       0.554\n",
            "MonthlyIncome_new      -1.874e-05    4.5e-06     -4.162      0.000   -2.76e-05   -9.92e-06\n",
            "Open_Credit_lines_new      0.0188      0.003      5.869      0.000       0.013       0.025\n",
            "num_90_dpd_new             0.7149      0.016     43.541      0.000       0.683       0.747\n",
            "Real_estate_loans_new     -0.0828      0.016     -5.096      0.000      -0.115      -0.051\n",
            "num_60_dpd_new             0.5795      0.023     25.640      0.000       0.535       0.624\n",
            "NumberOfDependents_new     0.0574      0.010      5.697      0.000       0.038       0.077\n",
            "==========================================================================================\n"
          ]
        }
      ]
    },
    {
      "cell_type": "code",
      "source": [
        "y = credit_loan['SeriousDlqin2yrs']\n",
        "y_pred = (result.predict(credit_loan.iloc[:,2:])>0.2).astype(int)\n",
        "cm = confusion_matrix(y,y_pred)\n",
        "print(cm)\n",
        "print(f\"Accuracy:{(cm[0,0]+cm[1,1])/cm.sum()}\")\n",
        "print(f\"Sensitivity:{cm[0,0]/(cm[0,0]+cm[0,1])}\")\n",
        "print(f\"Specificity:{cm[1,1]/(cm[1,0]+cm[1,1])}\")"
      ],
      "metadata": {
        "colab": {
          "base_uri": "https://localhost:8080/"
        },
        "id": "LD-BIfyrExPS",
        "outputId": "f48cfc31-dd7d-4fb7-92dd-b8f8f6facb2a"
      },
      "execution_count": 80,
      "outputs": [
        {
          "output_type": "stream",
          "name": "stdout",
          "text": [
            "[[135485   4489]\n",
            " [  6491   3535]]\n",
            "Accuracy:0.9268\n",
            "Sensitivity:0.9679297583836999\n",
            "Specificity:0.3525832834629962\n"
          ]
        }
      ]
    },
    {
      "cell_type": "code",
      "source": [
        "#Recall(0) - Not serious Delinquent-->Sensitivity\n",
        "print(cm[0,0]/(cm[0,0]+cm[0,1]))\n",
        "# Recall(1) - Serious Deliquent-->Specificity\n",
        "print(cm[1,1]/(cm[1,0]+cm[1,1]))"
      ],
      "metadata": {
        "colab": {
          "base_uri": "https://localhost:8080/"
        },
        "id": "Ji36oRTgOkBx",
        "outputId": "41a736e7-b3ee-491c-f25f-58bce06da60b"
      },
      "execution_count": 81,
      "outputs": [
        {
          "output_type": "stream",
          "name": "stdout",
          "text": [
            "0.9679297583836999\n",
            "0.3525832834629962\n"
          ]
        }
      ]
    },
    {
      "cell_type": "code",
      "source": [
        "#Precision - column perspective\n",
        "# Not Serious Delinquent--> Precision(0)\n",
        "print(cm[0,0]/(cm[0,0]+cm[1,0]))\n",
        "#Serious Delinquent --> Precision(1)\n",
        "print(cm[1,1]/(cm[0,1]+cm[1,1]))"
      ],
      "metadata": {
        "colab": {
          "base_uri": "https://localhost:8080/"
        },
        "id": "FRPECPMZPi55",
        "outputId": "89f6b96a-66b2-419e-cdb3-c35e6fd97254"
      },
      "execution_count": 82,
      "outputs": [
        {
          "output_type": "stream",
          "name": "stdout",
          "text": [
            "0.9542810052403223\n",
            "0.4405533399800598\n"
          ]
        }
      ]
    },
    {
      "cell_type": "code",
      "source": [
        "#f1_score\n",
        "recall = cm[0,0]/(cm[0,0]+cm[0,1])\n",
        "precision = cm[1,1]/(cm[0,1]+cm[1,1])\n",
        "f1_score = 2*(recall*precision)/(recall+precision)\n",
        "print(f\"f1_score: {f1_score}\")"
      ],
      "metadata": {
        "colab": {
          "base_uri": "https://localhost:8080/"
        },
        "id": "qqeYsskaRz1l",
        "outputId": "6bebbb56-5cea-4fe4-fba6-bf230d87fdd9"
      },
      "execution_count": 83,
      "outputs": [
        {
          "output_type": "stream",
          "name": "stdout",
          "text": [
            "f1_score: 0.6055091302372183\n"
          ]
        }
      ]
    },
    {
      "cell_type": "markdown",
      "source": [
        "## ROC_AUC for threshold selection"
      ],
      "metadata": {
        "id": "K4Ob5p4JnXVu"
      }
    },
    {
      "cell_type": "code",
      "source": [
        "fpr, tpr , threshold = roc_curve(y,result.predict(credit_loan.iloc[:,2:]))"
      ],
      "metadata": {
        "id": "qc7PJohhS21t"
      },
      "execution_count": 84,
      "outputs": []
    },
    {
      "cell_type": "code",
      "source": [
        "#area under the curve plotted\n",
        "roc_auc = auc(fpr,tpr)\n",
        "print(roc_auc)"
      ],
      "metadata": {
        "colab": {
          "base_uri": "https://localhost:8080/"
        },
        "id": "r9JsEa3Ooc6z",
        "outputId": "035c1a9a-c5c7-4b10-80b8-4ea82f717f9f"
      },
      "execution_count": 85,
      "outputs": [
        {
          "output_type": "stream",
          "name": "stdout",
          "text": [
            "0.8419745700913577\n"
          ]
        }
      ]
    },
    {
      "cell_type": "code",
      "source": [
        "plt.figure()\n",
        "plt.plot(fpr, tpr, color='darkorange', lw=2, label=f'ROC curve (area = {roc_auc:.2f})')\n",
        "plt.plot([0, 1], [0, 1], color='navy', lw=2, linestyle='--')\n",
        "plt.xlim([0.0, 1.0])\n",
        "plt.ylim([0.0, 1.05])\n",
        "plt.xlabel('False Positive Rate')\n",
        "plt.ylabel('True Positive Rate')\n",
        "plt.title('Receiver Operating Characteristic')\n",
        "plt.legend(loc='lower right')\n",
        "plt.show()\n"
      ],
      "metadata": {
        "colab": {
          "base_uri": "https://localhost:8080/",
          "height": 472
        },
        "id": "Ojq93pjjoefW",
        "outputId": "41ecb697-c881-4bd1-f0f5-764a22bf2e15"
      },
      "execution_count": 86,
      "outputs": [
        {
          "output_type": "display_data",
          "data": {
            "text/plain": [
              "<Figure size 640x480 with 1 Axes>"
            ],
            "image/png": "[encoded data removed]"
          },
          "metadata": {}
        }
      ]
    },
    {
      "cell_type": "markdown",
      "source": [
        "##Handling Class Imbalance"
      ],
      "metadata": {
        "id": "3li-joU5qgq6"
      }
    },
    {
      "cell_type": "code",
      "source": [
        "print(credit_loan.shape)"
      ],
      "metadata": {
        "colab": {
          "base_uri": "https://localhost:8080/"
        },
        "id": "D99wqyBdIEtw",
        "outputId": "bba2bb45-5031-473b-f3d7-11cc66445478"
      },
      "execution_count": 87,
      "outputs": [
        {
          "output_type": "stream",
          "name": "stdout",
          "text": [
            "(150000, 14)\n"
          ]
        }
      ]
    },
    {
      "cell_type": "code",
      "source": [
        "freq =  credit_loan['SeriousDlqin2yrs'].value_counts()\n",
        "print ((freq/freq.sum())*100)"
      ],
      "metadata": {
        "colab": {
          "base_uri": "https://localhost:8080/"
        },
        "id": "dR4lVrLkI_Hb",
        "outputId": "f84141d0-6dad-42ef-973f-9f371b4cdaf1"
      },
      "execution_count": 88,
      "outputs": [
        {
          "output_type": "stream",
          "name": "stdout",
          "text": [
            "SeriousDlqin2yrs\n",
            "0    93.316\n",
            "1     6.684\n",
            "Name: count, dtype: float64\n"
          ]
        }
      ]
    },
    {
      "cell_type": "code",
      "source": [
        "Not_Serious_Delinquent = credit_loan[credit_loan['SeriousDlqin2yrs']==0]\n",
        "Serious_Delinquent = credit_loan[credit_loan['SeriousDlqin2yrs']==1]\n",
        "print(\"Class_0:\",Not_Serious_Delinquent.shape)\n",
        "print(\"Class_1:\",Serious_Delinquent.shape)"
      ],
      "metadata": {
        "colab": {
          "base_uri": "https://localhost:8080/"
        },
        "id": "TCYU-osjJqgn",
        "outputId": "15106c1d-7af9-4ef8-d454-33e5b258121c"
      },
      "execution_count": 89,
      "outputs": [
        {
          "output_type": "stream",
          "name": "stdout",
          "text": [
            "Class_0: (139974, 14)\n",
            "Class_1: (10026, 14)\n"
          ]
        }
      ]
    },
    {
      "cell_type": "code",
      "source": [
        "#Over sampling for the inferior class\n",
        "#consider four times of the class\n",
        "Not_Serious_Delinquent_over = Not_Serious_Delinquent.sample(int(0.5*len(Not_Serious_Delinquent)))\n",
        "print(Not_Serious_Delinquent_over.shape)"
      ],
      "metadata": {
        "colab": {
          "base_uri": "https://localhost:8080/"
        },
        "id": "ja-XpCmTK3uy",
        "outputId": "84abb1f6-97ad-4227-db0e-6225325c6cf4"
      },
      "execution_count": 90,
      "outputs": [
        {
          "output_type": "stream",
          "name": "stdout",
          "text": [
            "(69987, 14)\n"
          ]
        }
      ]
    },
    {
      "cell_type": "code",
      "source": [
        "# Under sampling for superior class\n",
        "#I am considering half of the class\n",
        "Serious_Delinquent_under = Serious_Delinquent.sample(int(4*len(Serious_Delinquent)),replace=True)\n",
        "print(Serious_Delinquent_under.shape)"
      ],
      "metadata": {
        "colab": {
          "base_uri": "https://localhost:8080/"
        },
        "id": "i8FSL5RUKBex",
        "outputId": "b2f13db9-5008-49fc-f994-585f57ae468b"
      },
      "execution_count": 91,
      "outputs": [
        {
          "output_type": "stream",
          "name": "stdout",
          "text": [
            "(40104, 14)\n"
          ]
        }
      ]
    },
    {
      "cell_type": "code",
      "source": [
        "loan_balanced = pd.concat([Serious_Delinquent_under,Not_Serious_Delinquent_over])\n",
        "print(loan_balanced.shape)"
      ],
      "metadata": {
        "colab": {
          "base_uri": "https://localhost:8080/"
        },
        "id": "eTAm4S04Luzs",
        "outputId": "2b48653c-db9f-4b1e-ccd6-fd0cf6cf225f"
      },
      "execution_count": 92,
      "outputs": [
        {
          "output_type": "stream",
          "name": "stdout",
          "text": [
            "(110091, 14)\n"
          ]
        }
      ]
    },
    {
      "cell_type": "markdown",
      "source": [
        "##Model Training after sampling"
      ],
      "metadata": {
        "id": "ZQroe7GBNMWN"
      }
    },
    {
      "cell_type": "code",
      "source": [
        "model_formula2 = ols_formula(loan_balanced.iloc[:,1:],\"SeriousDlqin2yrs\")\n",
        "print(model_formula2)\n",
        "model2 = sm.logit(model_formula2,data=loan_balanced)\n",
        "result = model2.fit()\n",
        "y1 = loan_balanced['SeriousDlqin2yrs']\n",
        "y_pred1 = (result.predict(loan_balanced.iloc[:,2:])>0.2).astype(int)\n",
        "cm1 = confusion_matrix(y1,y_pred1)\n",
        "print(cm1)\n",
        "print(f\"Accuracy:{(cm1[0,0]+cm1[1,1])/cm1.sum()}\")\n",
        "print(f\"Sensitivity:{cm1[0,0]/(cm1[0,0]+cm1[0,1])}\")\n",
        "print(f\"Specificity:{cm1[1,1]/(cm1[1,0]+cm1[1,1])}\")"
      ],
      "metadata": {
        "colab": {
          "base_uri": "https://localhost:8080/"
        },
        "id": "5dWfaW9GNg2K",
        "outputId": "9a60d3d1-6b22-4480-9174-ac57675225bd"
      },
      "execution_count": 93,
      "outputs": [
        {
          "output_type": "stream",
          "name": "stdout",
          "text": [
            "SeriousDlqin2yrs~util_new+age_new+num_30_59_dpd_new+DebtRatio_new_ind+DebtRatio_new+MonthlyIncome_ind+MonthlyIncome_new+Open_Credit_lines_new+num_90_dpd_new+Real_estate_loans_new+num_60_dpd_new+NumberOfDependents_new\n",
            "Optimization terminated successfully.\n",
            "         Current function value: 0.473769\n",
            "         Iterations 7\n",
            "[[39787 30200]\n",
            " [ 4041 36063]]\n",
            "Accuracy:0.6889754839178498\n",
            "Sensitivity:0.5684912912398017\n",
            "Specificity:0.8992369838420108\n"
          ]
        }
      ]
    },
    {
      "cell_type": "markdown",
      "source": [
        "##Oversampling using SMOTE"
      ],
      "metadata": {
        "id": "XakQX3a1PqRN"
      }
    },
    {
      "cell_type": "code",
      "source": [
        "from imblearn.over_sampling import SMOTE\n",
        "from sklearn.model_selection import train_test_split\n",
        "X_train = credit_loan.iloc[:,2:]\n",
        "y_train = credit_loan['SeriousDlqin2yrs']\n",
        "X_train,X_test,y_train,y_test = train_test_split(X_train,y_train,test_size=0.2,random_state=42)\n",
        "smote  = SMOTE(sampling_strategy = 0.4,random_state=2)\n",
        "X_train_smote,y_train_smote = smote.fit_resample(X_train,y_train)\n",
        "\n",
        "print(\"Before smote:\",y_train.value_counts())\n",
        "print(\"After smote:\",y_train_smote.value_counts())"
      ],
      "metadata": {
        "colab": {
          "base_uri": "https://localhost:8080/"
        },
        "id": "8Ct8AyTfPweV",
        "outputId": "f8a40176-b6a5-499c-ef60-625859a1011e"
      },
      "execution_count": 94,
      "outputs": [
        {
          "output_type": "stream",
          "name": "stdout",
          "text": [
            "Before smote: SeriousDlqin2yrs\n",
            "0    111930\n",
            "1      8070\n",
            "Name: count, dtype: int64\n",
            "After smote: SeriousDlqin2yrs\n",
            "0    111930\n",
            "1     44772\n",
            "Name: count, dtype: int64\n"
          ]
        }
      ]
    },
    {
      "cell_type": "code",
      "source": [
        "loan_smote = pd.concat([X_train_smote,y_train_smote],axis=1)\n",
        "loan_smote.head()"
      ],
      "metadata": {
        "colab": {
          "base_uri": "https://localhost:8080/",
          "height": 226
        },
        "id": "lcGT8i-VSdnw",
        "outputId": "107c58af-a318-48f7-c72f-a7c159e81bde"
      },
      "execution_count": 95,
      "outputs": [
        {
          "output_type": "execute_result",
          "data": {
            "text/plain": [
              "   util_new  age_new  num_30_59_dpd_new  DebtRatio_new_ind  DebtRatio_new  \\\n",
              "0  0.403080       51                  1                  1       0.366508   \n",
              "1  1.000000       31                  0                  0       0.102180   \n",
              "2  0.225581       32                  0                  0       0.337527   \n",
              "3  0.145291       50                  0                  0       0.270815   \n",
              "4  0.028908       41                  0                  0       0.768521   \n",
              "\n",
              "   MonthlyIncome_ind  MonthlyIncome_new  Open_Credit_lines_new  \\\n",
              "0                  1               4000                      8   \n",
              "1                  1               5000                      1   \n",
              "2                  1               6120                      7   \n",
              "3                  1               5800                     11   \n",
              "4                  1               3900                      6   \n",
              "\n",
              "   num_90_dpd_new  Real_estate_loans_new  num_60_dpd_new  \\\n",
              "0               0                      4               0   \n",
              "1               0                      0               0   \n",
              "2               0                      2               0   \n",
              "3               0                      1               0   \n",
              "4               0                      2               0   \n",
              "\n",
              "   NumberOfDependents_new  SeriousDlqin2yrs  \n",
              "0                       1                 0  \n",
              "1                       0                 1  \n",
              "2                       0                 0  \n",
              "3                       3                 0  \n",
              "4                       1                 0  "
            ],
            "text/html": [
              "\n",
              "  <div id=\"df-5a343cc3-fda0-4249-b1b8-6320f4bab8dd\" class=\"colab-df-container\">\n",
              "    <div>\n",
              "<style scoped>\n",
              "    .dataframe tbody tr th:only-of-type {\n",
              "        vertical-align: middle;\n",
              "    }\n",
              "\n",
              "    .dataframe tbody tr th {\n",
              "        vertical-align: top;\n",
              "    }\n",
              "\n",
              "    .dataframe thead th {\n",
              "        text-align: right;\n",
              "    }\n",
              "</style>\n",
              "<table border=\"1\" class=\"dataframe\">\n",
              "  <thead>\n",
              "    <tr style=\"text-align: right;\">\n",
              "      <th></th>\n",
              "      <th>util_new</th>\n",
              "      <th>age_new</th>\n",
              "      <th>num_30_59_dpd_new</th>\n",
              "      <th>DebtRatio_new_ind</th>\n",
              "      <th>DebtRatio_new</th>\n",
              "      <th>MonthlyIncome_ind</th>\n",
              "      <th>MonthlyIncome_new</th>\n",
              "      <th>Open_Credit_lines_new</th>\n",
              "      <th>num_90_dpd_new</th>\n",
              "      <th>Real_estate_loans_new</th>\n",
              "      <th>num_60_dpd_new</th>\n",
              "      <th>NumberOfDependents_new</th>\n",
              "      <th>SeriousDlqin2yrs</th>\n",
              "    </tr>\n",
              "  </thead>\n",
              "  <tbody>\n",
              "    <tr>\n",
              "      <th>0</th>\n",
              "      <td>0.403080</td>\n",
              "      <td>51</td>\n",
              "      <td>1</td>\n",
              "      <td>1</td>\n",
              "      <td>0.366508</td>\n",
              "      <td>1</td>\n",
              "      <td>4000</td>\n",
              "      <td>8</td>\n",
              "      <td>0</td>\n",
              "      <td>4</td>\n",
              "      <td>0</td>\n",
              "      <td>1</td>\n",
              "      <td>0</td>\n",
              "    </tr>\n",
              "    <tr>\n",
              "      <th>1</th>\n",
              "      <td>1.000000</td>\n",
              "      <td>31</td>\n",
              "      <td>0</td>\n",
              "      <td>0</td>\n",
              "      <td>0.102180</td>\n",
              "      <td>1</td>\n",
              "      <td>5000</td>\n",
              "      <td>1</td>\n",
              "      <td>0</td>\n",
              "      <td>0</td>\n",
              "      <td>0</td>\n",
              "      <td>0</td>\n",
              "      <td>1</td>\n",
              "    </tr>\n",
              "    <tr>\n",
              "      <th>2</th>\n",
              "      <td>0.225581</td>\n",
              "      <td>32</td>\n",
              "      <td>0</td>\n",
              "      <td>0</td>\n",
              "      <td>0.337527</td>\n",
              "      <td>1</td>\n",
              "      <td>6120</td>\n",
              "      <td>7</td>\n",
              "      <td>0</td>\n",
              "      <td>2</td>\n",
              "      <td>0</td>\n",
              "      <td>0</td>\n",
              "      <td>0</td>\n",
              "    </tr>\n",
              "    <tr>\n",
              "      <th>3</th>\n",
              "      <td>0.145291</td>\n",
              "      <td>50</td>\n",
              "      <td>0</td>\n",
              "      <td>0</td>\n",
              "      <td>0.270815</td>\n",
              "      <td>1</td>\n",
              "      <td>5800</td>\n",
              "      <td>11</td>\n",
              "      <td>0</td>\n",
              "      <td>1</td>\n",
              "      <td>0</td>\n",
              "      <td>3</td>\n",
              "      <td>0</td>\n",
              "    </tr>\n",
              "    <tr>\n",
              "      <th>4</th>\n",
              "      <td>0.028908</td>\n",
              "      <td>41</td>\n",
              "      <td>0</td>\n",
              "      <td>0</td>\n",
              "      <td>0.768521</td>\n",
              "      <td>1</td>\n",
              "      <td>3900</td>\n",
              "      <td>6</td>\n",
              "      <td>0</td>\n",
              "      <td>2</td>\n",
              "      <td>0</td>\n",
              "      <td>1</td>\n",
              "      <td>0</td>\n",
              "    </tr>\n",
              "  </tbody>\n",
              "</table>\n",
              "</div>\n",
              "    <div class=\"colab-df-buttons\">\n",
              "\n",
              "  <div class=\"colab-df-container\">\n",
              "    <button class=\"colab-df-convert\" onclick=\"convertToInteractive('df-5a343cc3-fda0-4249-b1b8-6320f4bab8dd')\"\n",
              "            title=\"Convert this dataframe to an interactive table.\"\n",
              "            style=\"display:none;\">\n",
              "\n",
              "  <svg xmlns=\"http://www.w3.org/2000/svg\" height=\"24px\" viewBox=\"0 -960 960 960\">\n",
              "    <path d=\"M120-120v-720h720v720H120Zm60-500h600v-160H180v160Zm220 220h160v-160H400v160Zm0 220h160v-160H400v160ZM180-400h160v-160H180v160Zm440 0h160v-160H620v160ZM180-180h160v-160H180v160Zm440 0h160v-160H620v160Z\"/>\n",
              "  </svg>\n",
              "    </button>\n",
              "\n",
              "  <style>\n",
              "    .colab-df-container {\n",
              "      display:flex;\n",
              "      gap: 12px;\n",
              "    }\n",
              "\n",
              "    .colab-df-convert {\n",
              "      background-color: #E8F0FE;\n",
              "      border: none;\n",
              "      border-radius: 50%;\n",
              "      cursor: pointer;\n",
              "      display: none;\n",
              "      fill: #1967D2;\n",
              "      height: 32px;\n",
              "      padding: 0 0 0 0;\n",
              "      width: 32px;\n",
              "    }\n",
              "\n",
              "    .colab-df-convert:hover {\n",
              "      background-color: #E2EBFA;\n",
              "      box-shadow: 0px 1px 2px rgba(60, 64, 67, 0.3), 0px 1px 3px 1px rgba(60, 64, 67, 0.15);\n",
              "      fill: #174EA6;\n",
              "    }\n",
              "\n",
              "    .colab-df-buttons div {\n",
              "      margin-bottom: 4px;\n",
              "    }\n",
              "\n",
              "    [theme=dark] .colab-df-convert {\n",
              "      background-color: #3B4455;\n",
              "      fill: #D2E3FC;\n",
              "    }\n",
              "\n",
              "    [theme=dark] .colab-df-convert:hover {\n",
              "      background-color: #434B5C;\n",
              "      box-shadow: 0px 1px 3px 1px rgba(0, 0, 0, 0.15);\n",
              "      filter: drop-shadow(0px 1px 2px rgba(0, 0, 0, 0.3));\n",
              "      fill: #FFFFFF;\n",
              "    }\n",
              "  </style>\n",
              "\n",
              "    <script>\n",
              "      const buttonEl =\n",
              "        document.querySelector('#df-5a343cc3-fda0-4249-b1b8-6320f4bab8dd button.colab-df-convert');\n",
              "      buttonEl.style.display =\n",
              "        google.colab.kernel.accessAllowed ? 'block' : 'none';\n",
              "\n",
              "      async function convertToInteractive(key) {\n",
              "        const element = document.querySelector('#df-5a343cc3-fda0-4249-b1b8-6320f4bab8dd');\n",
              "        const dataTable =\n",
              "          await google.colab.kernel.invokeFunction('convertToInteractive',\n",
              "                                                    [key], {});\n",
              "        if (!dataTable) return;\n",
              "\n",
              "        const docLinkHtml = 'Like what you see? Visit the ' +\n",
              "          '<a target=\"_blank\" href=https://colab.research.google.com/notebooks/data_table.ipynb>data table notebook</a>'\n",
              "          + ' to learn more about interactive tables.';\n",
              "        element.innerHTML = '';\n",
              "        dataTable['output_type'] = 'display_data';\n",
              "        await google.colab.output.renderOutput(dataTable, element);\n",
              "        const docLink = document.createElement('div');\n",
              "        docLink.innerHTML = docLinkHtml;\n",
              "        element.appendChild(docLink);\n",
              "      }\n",
              "    </script>\n",
              "  </div>\n",
              "\n",
              "\n",
              "<div id=\"df-061391ba-9bc1-4682-833e-c65b20e2ac3a\">\n",
              "  <button class=\"colab-df-quickchart\" onclick=\"quickchart('df-061391ba-9bc1-4682-833e-c65b20e2ac3a')\"\n",
              "            title=\"Suggest charts\"\n",
              "            style=\"display:none;\">\n",
              "\n",
              "<svg xmlns=\"http://www.w3.org/2000/svg\" height=\"24px\"viewBox=\"0 0 24 24\"\n",
              "     width=\"24px\">\n",
              "    <g>\n",
              "        <path d=\"M19 3H5c-1.1 0-2 .9-2 2v14c0 1.1.9 2 2 2h14c1.1 0 2-.9 2-2V5c0-1.1-.9-2-2-2zM9 17H7v-7h2v7zm4 0h-2V7h2v10zm4 0h-2v-4h2v4z\"/>\n",
              "    </g>\n",
              "</svg>\n",
              "  </button>\n",
              "\n",
              "<style>\n",
              "  .colab-df-quickchart {\n",
              "      --bg-color: #E8F0FE;\n",
              "      --fill-color: #1967D2;\n",
              "      --hover-bg-color: #E2EBFA;\n",
              "      --hover-fill-color: #174EA6;\n",
              "      --disabled-fill-color: #AAA;\n",
              "      --disabled-bg-color: #DDD;\n",
              "  }\n",
              "\n",
              "  [theme=dark] .colab-df-quickchart {\n",
              "      --bg-color: #3B4455;\n",
              "      --fill-color: #D2E3FC;\n",
              "      --hover-bg-color: #434B5C;\n",
              "      --hover-fill-color: #FFFFFF;\n",
              "      --disabled-bg-color: #3B4455;\n",
              "      --disabled-fill-color: #666;\n",
              "  }\n",
              "\n",
              "  .colab-df-quickchart {\n",
              "    background-color: var(--bg-color);\n",
              "    border: none;\n",
              "    border-radius: 50%;\n",
              "    cursor: pointer;\n",
              "    display: none;\n",
              "    fill: var(--fill-color);\n",
              "    height: 32px;\n",
              "    padding: 0;\n",
              "    width: 32px;\n",
              "  }\n",
              "\n",
              "  .colab-df-quickchart:hover {\n",
              "    background-color: var(--hover-bg-color);\n",
              "    box-shadow: 0 1px 2px rgba(60, 64, 67, 0.3), 0 1px 3px 1px rgba(60, 64, 67, 0.15);\n",
              "    fill: var(--button-hover-fill-color);\n",
              "  }\n",
              "\n",
              "  .colab-df-quickchart-complete:disabled,\n",
              "  .colab-df-quickchart-complete:disabled:hover {\n",
              "    background-color: var(--disabled-bg-color);\n",
              "    fill: var(--disabled-fill-color);\n",
              "    box-shadow: none;\n",
              "  }\n",
              "\n",
              "  .colab-df-spinner {\n",
              "    border: 2px solid var(--fill-color);\n",
              "    border-color: transparent;\n",
              "    border-bottom-color: var(--fill-color);\n",
              "    animation:\n",
              "      spin 1s steps(1) infinite;\n",
              "  }\n",
              "\n",
              "  @keyframes spin {\n",
              "    0% {\n",
              "      border-color: transparent;\n",
              "      border-bottom-color: var(--fill-color);\n",
              "      border-left-color: var(--fill-color);\n",
              "    }\n",
              "    20% {\n",
              "      border-color: transparent;\n",
              "      border-left-color: var(--fill-color);\n",
              "      border-top-color: var(--fill-color);\n",
              "    }\n",
              "    30% {\n",
              "      border-color: transparent;\n",
              "      border-left-color: var(--fill-color);\n",
              "      border-top-color: var(--fill-color);\n",
              "      border-right-color: var(--fill-color);\n",
              "    }\n",
              "    40% {\n",
              "      border-color: transparent;\n",
              "      border-right-color: var(--fill-color);\n",
              "      border-top-color: var(--fill-color);\n",
              "    }\n",
              "    60% {\n",
              "      border-color: transparent;\n",
              "      border-right-color: var(--fill-color);\n",
              "    }\n",
              "    80% {\n",
              "      border-color: transparent;\n",
              "      border-right-color: var(--fill-color);\n",
              "      border-bottom-color: var(--fill-color);\n",
              "    }\n",
              "    90% {\n",
              "      border-color: transparent;\n",
              "      border-bottom-color: var(--fill-color);\n",
              "    }\n",
              "  }\n",
              "</style>\n",
              "\n",
              "  <script>\n",
              "    async function quickchart(key) {\n",
              "      const quickchartButtonEl =\n",
              "        document.querySelector('#' + key + ' button');\n",
              "      quickchartButtonEl.disabled = true;  // To prevent multiple clicks.\n",
              "      quickchartButtonEl.classList.add('colab-df-spinner');\n",
              "      try {\n",
              "        const charts = await google.colab.kernel.invokeFunction(\n",
              "            'suggestCharts', [key], {});\n",
              "      } catch (error) {\n",
              "        console.error('Error during call to suggestCharts:', error);\n",
              "      }\n",
              "      quickchartButtonEl.classList.remove('colab-df-spinner');\n",
              "      quickchartButtonEl.classList.add('colab-df-quickchart-complete');\n",
              "    }\n",
              "    (() => {\n",
              "      let quickchartButtonEl =\n",
              "        document.querySelector('#df-061391ba-9bc1-4682-833e-c65b20e2ac3a button');\n",
              "      quickchartButtonEl.style.display =\n",
              "        google.colab.kernel.accessAllowed ? 'block' : 'none';\n",
              "    })();\n",
              "  </script>\n",
              "</div>\n",
              "\n",
              "    </div>\n",
              "  </div>\n"
            ],
            "application/vnd.google.colaboratory.intrinsic+json": {
              "type": "dataframe",
              "variable_name": "loan_smote"
            }
          },
          "metadata": {},
          "execution_count": 95
        }
      ]
    },
    {
      "cell_type": "code",
      "source": [
        "model_formula3 = ols_formula(loan_smote.iloc[:,:],\"SeriousDlqin2yrs\")\n",
        "print(model_formula3)\n",
        "model3 = sm.logit(model_formula3,data=loan_smote)\n",
        "result = model3.fit()\n",
        "y2 = loan_smote['SeriousDlqin2yrs']\n",
        "y_pred2 = (result.predict(loan_smote.iloc[:,:-1])>0.2).astype(int)\n",
        "cm2 = confusion_matrix(y2,y_pred2)\n",
        "print(cm2)\n",
        "print(f\"Accuracy:{(cm2[0,0]+cm2[1,1])/cm2.sum()}\")\n",
        "print(f\"Sensitivity:{cm2[0,0]/(cm2[0,0]+cm2[0,1])}\")\n",
        "print(f\"Specificity:{cm2[1,1]/(cm2[1,0]+cm2[1,1])}\")"
      ],
      "metadata": {
        "colab": {
          "base_uri": "https://localhost:8080/"
        },
        "id": "iDSOp_vITA1I",
        "outputId": "ea717a44-b122-4dd7-e241-ee8f2e2922cb"
      },
      "execution_count": 96,
      "outputs": [
        {
          "output_type": "stream",
          "name": "stdout",
          "text": [
            "SeriousDlqin2yrs~util_new+age_new+num_30_59_dpd_new+DebtRatio_new_ind+DebtRatio_new+MonthlyIncome_ind+MonthlyIncome_new+Open_Credit_lines_new+num_90_dpd_new+Real_estate_loans_new+num_60_dpd_new+NumberOfDependents_new\n",
            "Optimization terminated successfully.\n",
            "         Current function value: 0.458396\n",
            "         Iterations 6\n",
            "[[72754 39176]\n",
            " [ 6526 38246]]\n",
            "Accuracy:0.7083508825669105\n",
            "Sensitivity:0.6499955329223622\n",
            "Specificity:0.854239256678281\n"
          ]
        }
      ]
    }
  ]
}