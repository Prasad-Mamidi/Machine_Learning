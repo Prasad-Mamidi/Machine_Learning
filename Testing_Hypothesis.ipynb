{
  "nbformat": 4,
  "nbformat_minor": 0,
  "metadata": {
    "colab": {
      "provenance": [],
      "authorship_tag": "ABX9TyOA1M3j4sMtYwLTqWxj2rax",
      "include_colab_link": true
    },
    "kernelspec": {
      "name": "python3",
      "display_name": "Python 3"
    },
    "language_info": {
      "name": "python"
    }
  },
  "cells": [
    {
      "cell_type": "markdown",
      "metadata": {
        "id": "view-in-github",
        "colab_type": "text"
      },
      "source": [
        "<a href=\"https://colab.research.google.com/github/Prasad-Mamidi/Machine_Learning/blob/main/Testing_Hypothesis.ipynb\" target=\"_parent\"><img src=\"https://colab.research.google.com/assets/colab-badge.svg\" alt=\"Open In Colab\"/></a>"
      ]
    },
    {
      "cell_type": "code",
      "execution_count": 1,
      "metadata": {
        "id": "gCjF95pqy8J8"
      },
      "outputs": [],
      "source": [
        "import pandas as pd\n",
        "from scipy import stats\n",
        "from statsmodels.stats import weightstats as stests"
      ]
    },
    {
      "cell_type": "code",
      "source": [
        "sales =pd.read_csv(\"https://raw.githubusercontent.com/Prasad-Mamidi/Machine_Learning/main/Datasets/Rossmann_sales_data/Rossmann_Store_Sales.csv\",low_memory=False)\n",
        "print(sales.head())"
      ],
      "metadata": {
        "id": "jNF1umTvzk5a",
        "colab": {
          "base_uri": "https://localhost:8080/"
        },
        "outputId": "b79f1731-655e-430b-e11d-3e03a143e7cd"
      },
      "execution_count": 3,
      "outputs": [
        {
          "output_type": "stream",
          "name": "stdout",
          "text": [
            "   Store  DayOfWeek        Date  Sales  Customers  Open  Promo StateHoliday  \\\n",
            "0      1          5  31-07-2015   5263        555     1      1            0   \n",
            "1      2          5  31-07-2015   6064        625     1      1            0   \n",
            "2      3          5  31-07-2015   8314        821     1      1            0   \n",
            "3      4          5  31-07-2015  13995       1498     1      1            0   \n",
            "4      5          5  31-07-2015   4822        559     1      1            0   \n",
            "\n",
            "   SchoolHoliday StoreType Assortment  CompetitionDistance  \\\n",
            "0              1         c          a                 1270   \n",
            "1              1         a          a                  570   \n",
            "2              1         a          a                14130   \n",
            "3              1         c          c                  620   \n",
            "4              1         a          a                29910   \n",
            "\n",
            "   CompetitionOpenSinceMonth  CompetitionOpenSinceYear  Promo2  \\\n",
            "0                          9                      2008       0   \n",
            "1                         11                      2007       1   \n",
            "2                         12                      2006       1   \n",
            "3                          9                      2009       0   \n",
            "4                          4                      2015       0   \n",
            "\n",
            "   Promo2SinceWeek  Promo2SinceYear    PromoInterval  \n",
            "0                0                0                0  \n",
            "1               13             2010  Jan,Apr,Jul,Oct  \n",
            "2               14             2011  Jan,Apr,Jul,Oct  \n",
            "3                0                0                0  \n",
            "4                0                0                0  \n"
          ]
        }
      ]
    },
    {
      "cell_type": "markdown",
      "source": [
        "## Test1 for average customers"
      ],
      "metadata": {
        "id": "I3O4YnOrrv9U"
      }
    },
    {
      "cell_type": "code",
      "source": [
        "sales_sample = sales.sample(n=100,random_state=55)\n",
        "ztest,pval = stests.ztest(sales_sample[\"Customers\"],x2=None,value=750)\n",
        "print(f\"p-value:{pval}\")\n",
        "print(f\"zvalue:{ztest}\")\n",
        "if pval<0.05:\n",
        "    print(\"Null hypothesis rejected , Alternative hypothesis accepted\")\n",
        "else:\n",
        "    print(\"Null hypothesis accepted , Alternative hypothesis rejected\")"
      ],
      "metadata": {
        "colab": {
          "base_uri": "https://localhost:8080/"
        },
        "id": "4A4UscVWnq2_",
        "outputId": "d75eb54b-23ad-4557-c34b-9e5cc59cedc0"
      },
      "execution_count": 14,
      "outputs": [
        {
          "output_type": "stream",
          "name": "stdout",
          "text": [
            "p-value:9.204205784060673e-05\n",
            "zvalue:-3.9106657876778277\n",
            "Null hypothesis rejected , Alternative hypothesis accepted\n"
          ]
        }
      ]
    },
    {
      "cell_type": "code",
      "source": [
        "sales_sample = sales.sample(n=100,random_state=55)\n",
        "ztest,pval = stests.ztest(sales_sample[\"Customers\"],x2=None,value=700)\n",
        "print(f\"p-value:{pval}\")\n",
        "print(f\"zvalue:{ztest}\")\n",
        "if pval<0.05:\n",
        "    print(\"Null hypothesis rejected , Alternative hypothesis accepted\")\n",
        "else:\n",
        "    print(\"Null hypothesis accepted , Alternative hypothesis rejected\")"
      ],
      "metadata": {
        "colab": {
          "base_uri": "https://localhost:8080/"
        },
        "id": "bFQIl2IAq98I",
        "outputId": "2edbee52-5687-46b4-fc21-0b9c0da7b531"
      },
      "execution_count": 15,
      "outputs": [
        {
          "output_type": "stream",
          "name": "stdout",
          "text": [
            "p-value:0.009151879639808083\n",
            "zvalue:-2.6063279223993843\n",
            "Null hypothesis rejected , Alternative hypothesis accepted\n"
          ]
        }
      ]
    },
    {
      "cell_type": "code",
      "source": [
        "sales_sample = sales.sample(n=100,random_state=55)\n",
        "ztest,pval = stests.ztest(sales_sample[\"Customers\"],x2=None,value=650)\n",
        "print(f\"p-value:{pval}\")\n",
        "print(f\"zvalue:{ztest}\")\n",
        "if pval<0.05:\n",
        "    print(\"Null hypothesis rejected , Alternative hypothesis accepted\")\n",
        "else:\n",
        "    print(\"Null hypothesis accepted , Alternative hypothesis rejected\")"
      ],
      "metadata": {
        "colab": {
          "base_uri": "https://localhost:8080/"
        },
        "id": "iGNH3Hmerh-B",
        "outputId": "10da006e-ac11-4459-e58b-f4fc0498ed12"
      },
      "execution_count": 16,
      "outputs": [
        {
          "output_type": "stream",
          "name": "stdout",
          "text": [
            "p-value:0.1929197845648173\n",
            "zvalue:-1.3019900571209413\n",
            "Null hypothesis accepted , Alternative hypothesis rejected\n"
          ]
        }
      ]
    }
  ]
}